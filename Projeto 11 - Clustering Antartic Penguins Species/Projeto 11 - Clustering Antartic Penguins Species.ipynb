{
 "cells": [
  {
   "cell_type": "markdown",
   "id": "589fe37e-e764-4d71-9c3c-93c8b7acee79",
   "metadata": {},
   "source": [
    "![Alt text](https://imgur.com/orZWHly.png=80)\n",
    "source: @allison_horst https://github.com/allisonhorst/penguins"
   ]
  },
  {
   "cell_type": "markdown",
   "id": "d3fb84f2-0eda-4b73-95c0-5364f83e25bf",
   "metadata": {},
   "source": [
    "You have been asked to support a team of researchers who have been collecting data about penguins in Antartica! The data is available in csv-Format as `penguins.csv`\n",
    "\n",
    "**Origin of this data** : Data were collected and made available by Dr. Kristen Gorman and the Palmer Station, Antarctica LTER, a member of the Long Term Ecological Research Network.\n",
    "\n",
    "**The dataset consists of 5 columns.**\n",
    "\n",
    "Column | Description\n",
    "--- | ---\n",
    "culmen_length_mm | culmen length (mm)\n",
    "culmen_depth_mm | culmen depth (mm)\n",
    "flipper_length_mm | flipper length (mm)\n",
    "body_mass_g | body mass (g)\n",
    "sex | penguin sex\n",
    "\n",
    "Unfortunately, they have not been able to record the species of penguin, but they know that there are **at least three** species that are native to the region: **Adelie**, **Chinstrap**, and **Gentoo**.  Your task is to apply your data science skills to help them identify groups in the dataset!"
   ]
  },
  {
   "cell_type": "markdown",
   "id": "fae25ff2",
   "metadata": {},
   "source": [
    "## Objetivos\n",
    "\n",
    "Utilize your unsupervised learning skills to clusters in the penguins dataset!\n",
    "\n",
    "Import, investigate and pre-process the \"penguins.csv\" dataset.\n",
    "Perform a cluster analysis based on a reasonable number of clusters and collect the average values for the clusters. The output should be a DataFrame named stat_penguins with one row per cluster that shows the mean of the original variables (or columns in \"penguins.csv\") by cluster. stat_penguins should not include any non-numeric columns (transform non-numeric in numeric with encoding)."
   ]
  },
  {
   "cell_type": "code",
   "execution_count": 32,
   "id": "57295d13-5753-4f8d-aa96-cd6815f7cbd9",
   "metadata": {
    "executionCancelledAt": null,
    "executionTime": 24,
    "lastExecutedAt": 1717157062256,
    "lastExecutedByKernel": "58942c8c-0534-4896-9aa9-4b6e1191a459",
    "lastScheduledRunId": null,
    "lastSuccessfullyExecutedCode": "# Import Required Packages\nimport pandas as pd\nimport matplotlib.pyplot as plt\n\nfrom sklearn.cluster import KMeans\nfrom sklearn.preprocessing import StandardScaler\n\n# Loading and examining the dataset\npenguins_df = pd.read_csv(\"penguins.csv\")\npenguins_df.head()",
    "outputsMetadata": {
     "0": {
      "height": 237,
      "tableState": {
       "quickFilterText": ""
      },
      "type": "dataFrame"
     }
    }
   },
   "outputs": [
    {
     "data": {
      "application/vnd.microsoft.datawrangler.viewer.v0+json": {
       "columns": [
        {
         "name": "index",
         "rawType": "int64",
         "type": "integer"
        },
        {
         "name": "culmen_length_mm",
         "rawType": "float64",
         "type": "float"
        },
        {
         "name": "culmen_depth_mm",
         "rawType": "float64",
         "type": "float"
        },
        {
         "name": "flipper_length_mm",
         "rawType": "float64",
         "type": "float"
        },
        {
         "name": "body_mass_g",
         "rawType": "float64",
         "type": "float"
        },
        {
         "name": "sex",
         "rawType": "object",
         "type": "string"
        }
       ],
       "ref": "27212557-4c4b-4d35-a689-b4b03ac7eb34",
       "rows": [
        [
         "0",
         "39.1",
         "18.7",
         "181.0",
         "3750.0",
         "MALE"
        ],
        [
         "1",
         "39.5",
         "17.4",
         "186.0",
         "3800.0",
         "FEMALE"
        ],
        [
         "2",
         "40.3",
         "18.0",
         "195.0",
         "3250.0",
         "FEMALE"
        ],
        [
         "3",
         "36.7",
         "19.3",
         "193.0",
         "3450.0",
         "FEMALE"
        ],
        [
         "4",
         "39.3",
         "20.6",
         "190.0",
         "3650.0",
         "MALE"
        ]
       ],
       "shape": {
        "columns": 5,
        "rows": 5
       }
      },
      "text/html": [
       "<div>\n",
       "<style scoped>\n",
       "    .dataframe tbody tr th:only-of-type {\n",
       "        vertical-align: middle;\n",
       "    }\n",
       "\n",
       "    .dataframe tbody tr th {\n",
       "        vertical-align: top;\n",
       "    }\n",
       "\n",
       "    .dataframe thead th {\n",
       "        text-align: right;\n",
       "    }\n",
       "</style>\n",
       "<table border=\"1\" class=\"dataframe\">\n",
       "  <thead>\n",
       "    <tr style=\"text-align: right;\">\n",
       "      <th></th>\n",
       "      <th>culmen_length_mm</th>\n",
       "      <th>culmen_depth_mm</th>\n",
       "      <th>flipper_length_mm</th>\n",
       "      <th>body_mass_g</th>\n",
       "      <th>sex</th>\n",
       "    </tr>\n",
       "  </thead>\n",
       "  <tbody>\n",
       "    <tr>\n",
       "      <th>0</th>\n",
       "      <td>39.1</td>\n",
       "      <td>18.7</td>\n",
       "      <td>181.0</td>\n",
       "      <td>3750.0</td>\n",
       "      <td>MALE</td>\n",
       "    </tr>\n",
       "    <tr>\n",
       "      <th>1</th>\n",
       "      <td>39.5</td>\n",
       "      <td>17.4</td>\n",
       "      <td>186.0</td>\n",
       "      <td>3800.0</td>\n",
       "      <td>FEMALE</td>\n",
       "    </tr>\n",
       "    <tr>\n",
       "      <th>2</th>\n",
       "      <td>40.3</td>\n",
       "      <td>18.0</td>\n",
       "      <td>195.0</td>\n",
       "      <td>3250.0</td>\n",
       "      <td>FEMALE</td>\n",
       "    </tr>\n",
       "    <tr>\n",
       "      <th>3</th>\n",
       "      <td>36.7</td>\n",
       "      <td>19.3</td>\n",
       "      <td>193.0</td>\n",
       "      <td>3450.0</td>\n",
       "      <td>FEMALE</td>\n",
       "    </tr>\n",
       "    <tr>\n",
       "      <th>4</th>\n",
       "      <td>39.3</td>\n",
       "      <td>20.6</td>\n",
       "      <td>190.0</td>\n",
       "      <td>3650.0</td>\n",
       "      <td>MALE</td>\n",
       "    </tr>\n",
       "  </tbody>\n",
       "</table>\n",
       "</div>"
      ],
      "text/plain": [
       "   culmen_length_mm  culmen_depth_mm  flipper_length_mm  body_mass_g     sex\n",
       "0              39.1             18.7              181.0       3750.0    MALE\n",
       "1              39.5             17.4              186.0       3800.0  FEMALE\n",
       "2              40.3             18.0              195.0       3250.0  FEMALE\n",
       "3              36.7             19.3              193.0       3450.0  FEMALE\n",
       "4              39.3             20.6              190.0       3650.0    MALE"
      ]
     },
     "execution_count": 32,
     "metadata": {},
     "output_type": "execute_result"
    }
   ],
   "source": [
    "# Import Required Packages\n",
    "import pandas as pd\n",
    "import matplotlib.pyplot as plt\n",
    "from sklearn.cluster import KMeans\n",
    "from sklearn.preprocessing import StandardScaler\n",
    "\n",
    "# Loading and examining the dataset\n",
    "penguins_df = pd.read_csv(\"penguins.csv\")\n",
    "penguins_df.head()"
   ]
  },
  {
   "cell_type": "markdown",
   "id": "40f281f5",
   "metadata": {},
   "source": [
    "# Minha solução:\n",
    "\n"
   ]
  },
  {
   "cell_type": "markdown",
   "id": "7ecd62ce",
   "metadata": {},
   "source": [
    "## Discussão do Problema\n",
    "\n",
    "O problema proposto busca classificar espécies distintas de penguins baseados em um dataset contendo **apenas features**. Trata-se portanto de um problema de classificação não supervisionado, sendo o objetivo a definição de labels que definem diferentes espécies de penguins a partir de clusterização (Algoritmo Não-Supervisionado). \n",
    "\n",
    "Em problemas de ML, comumente é interessante realizar padronização (standardization) nas variáveis, principalmente em algoritmos de aprendizado não supervisionado, com objetivo de padronizar as variáveis para que possuam características similares (média/variância). Essa medida irá melhorar o desempenho do modelo de clusterização, já que todas as variáveis possuirão pesos iguais na clusterização.\n",
    "\n",
    "Por se tratar de uma clusterização, é necessário escolher um número de clusters. Essa escolha é realizada a partir da **Inércia**, que por sua vez é tomada a partir do ajuste de modelos ajustados variando números de clusters. O número de clusters para o modelo de clusterização é escolhido quando **a inércia do modelo deixa de apresentar uma variação grande com o aumento de clusters**. No caso, utilizaremos o KMeans para checar em qual quantidade de clusters teremos uma redução significativa em relação à uma quantidade inferior, e utilizaremos esse ponto como corte.\n",
    "\n",
    "Após selecionada o número de clusters, aplica-se o modelo de KMeans definitivamente, e levantam-se as informações de interesse. O problema pede para realizar o output de um DataFrame com nome `stat_penguins`, onde cada linha representa um cluster e as colunas são as features, com os valores sendo as médias do feature para aquele cluster. O dataframe `stat_penguins` não deverá apresentar nenhum valor não-numérico!"
   ]
  },
  {
   "cell_type": "markdown",
   "id": "8c2994a1",
   "metadata": {},
   "source": [
    "## Etapas propostas para alcançar a solução\n",
    "\n",
    "- Passo 1: EDA\n",
    "\n",
    "  - Verificar Missing Values -> existem?\n",
    "  - Dados estão nos DTypes corretos?\n",
    "  - Visualização dos dados -> Como a distribuição aparenta ser?\n",
    "\n",
    "- Passo 2: Pre-processamento dos dados\n",
    "  - Se houver dados categóricos, criar dummy_variables para treinamento do modelo não supervisionado!\n",
    "  - Aplicar StandardScaler -> Padronizar dados de variáveis numéricas\n",
    "\n",
    "- Passo 3: Definir quantidade de clusters\n",
    "\n",
    "  - Realizar laço de repetição, onde serão fitados vários modelos KMeans com n_clusters distintos\n",
    "  - A inércia de cada modelo de n_clusters distinto será armazenada\n",
    "  - Realizar visualização da inércia de cada modelo para definir o número de clusters pelo método do cotovelo\n",
    "\n",
    "- Passo 4: Aplicar modelo com n_clusters definido\n",
    "\n",
    "  - Obter dataframe com label dos clusters \n",
    "  - Visualizar os clusters \n",
    "\n",
    "- Passo 5: Retornar dataset com o resultado esperado\n"
   ]
  },
  {
   "cell_type": "markdown",
   "id": "f3419c72",
   "metadata": {},
   "source": [
    "## Etapa 1: Cleaning + EDA"
   ]
  },
  {
   "cell_type": "code",
   "execution_count": 33,
   "id": "2c36ff9a",
   "metadata": {},
   "outputs": [
    {
     "data": {
      "application/vnd.microsoft.datawrangler.viewer.v0+json": {
       "columns": [
        {
         "name": "index",
         "rawType": "int64",
         "type": "integer"
        },
        {
         "name": "culmen_length_mm",
         "rawType": "float64",
         "type": "float"
        },
        {
         "name": "culmen_depth_mm",
         "rawType": "float64",
         "type": "float"
        },
        {
         "name": "flipper_length_mm",
         "rawType": "float64",
         "type": "float"
        },
        {
         "name": "body_mass_g",
         "rawType": "float64",
         "type": "float"
        },
        {
         "name": "sex",
         "rawType": "object",
         "type": "string"
        }
       ],
       "ref": "0537a658-ef0a-40f6-85d7-9d7446dd237a",
       "rows": [
        [
         "0",
         "39.1",
         "18.7",
         "181.0",
         "3750.0",
         "MALE"
        ],
        [
         "1",
         "39.5",
         "17.4",
         "186.0",
         "3800.0",
         "FEMALE"
        ],
        [
         "2",
         "40.3",
         "18.0",
         "195.0",
         "3250.0",
         "FEMALE"
        ],
        [
         "3",
         "36.7",
         "19.3",
         "193.0",
         "3450.0",
         "FEMALE"
        ],
        [
         "4",
         "39.3",
         "20.6",
         "190.0",
         "3650.0",
         "MALE"
        ]
       ],
       "shape": {
        "columns": 5,
        "rows": 5
       }
      },
      "text/html": [
       "<div>\n",
       "<style scoped>\n",
       "    .dataframe tbody tr th:only-of-type {\n",
       "        vertical-align: middle;\n",
       "    }\n",
       "\n",
       "    .dataframe tbody tr th {\n",
       "        vertical-align: top;\n",
       "    }\n",
       "\n",
       "    .dataframe thead th {\n",
       "        text-align: right;\n",
       "    }\n",
       "</style>\n",
       "<table border=\"1\" class=\"dataframe\">\n",
       "  <thead>\n",
       "    <tr style=\"text-align: right;\">\n",
       "      <th></th>\n",
       "      <th>culmen_length_mm</th>\n",
       "      <th>culmen_depth_mm</th>\n",
       "      <th>flipper_length_mm</th>\n",
       "      <th>body_mass_g</th>\n",
       "      <th>sex</th>\n",
       "    </tr>\n",
       "  </thead>\n",
       "  <tbody>\n",
       "    <tr>\n",
       "      <th>0</th>\n",
       "      <td>39.1</td>\n",
       "      <td>18.7</td>\n",
       "      <td>181.0</td>\n",
       "      <td>3750.0</td>\n",
       "      <td>MALE</td>\n",
       "    </tr>\n",
       "    <tr>\n",
       "      <th>1</th>\n",
       "      <td>39.5</td>\n",
       "      <td>17.4</td>\n",
       "      <td>186.0</td>\n",
       "      <td>3800.0</td>\n",
       "      <td>FEMALE</td>\n",
       "    </tr>\n",
       "    <tr>\n",
       "      <th>2</th>\n",
       "      <td>40.3</td>\n",
       "      <td>18.0</td>\n",
       "      <td>195.0</td>\n",
       "      <td>3250.0</td>\n",
       "      <td>FEMALE</td>\n",
       "    </tr>\n",
       "    <tr>\n",
       "      <th>3</th>\n",
       "      <td>36.7</td>\n",
       "      <td>19.3</td>\n",
       "      <td>193.0</td>\n",
       "      <td>3450.0</td>\n",
       "      <td>FEMALE</td>\n",
       "    </tr>\n",
       "    <tr>\n",
       "      <th>4</th>\n",
       "      <td>39.3</td>\n",
       "      <td>20.6</td>\n",
       "      <td>190.0</td>\n",
       "      <td>3650.0</td>\n",
       "      <td>MALE</td>\n",
       "    </tr>\n",
       "  </tbody>\n",
       "</table>\n",
       "</div>"
      ],
      "text/plain": [
       "   culmen_length_mm  culmen_depth_mm  flipper_length_mm  body_mass_g     sex\n",
       "0              39.1             18.7              181.0       3750.0    MALE\n",
       "1              39.5             17.4              186.0       3800.0  FEMALE\n",
       "2              40.3             18.0              195.0       3250.0  FEMALE\n",
       "3              36.7             19.3              193.0       3450.0  FEMALE\n",
       "4              39.3             20.6              190.0       3650.0    MALE"
      ]
     },
     "execution_count": 33,
     "metadata": {},
     "output_type": "execute_result"
    }
   ],
   "source": [
    "# Import Required Packages\n",
    "import pandas as pd\n",
    "import matplotlib.pyplot as plt\n",
    "import numpy as np\n",
    "from sklearn.cluster import KMeans\n",
    "\n",
    "penguins_df = pd.read_csv(\"penguins.csv\")\n",
    "penguins_df.head()"
   ]
  },
  {
   "cell_type": "markdown",
   "id": "6481ac58",
   "metadata": {},
   "source": [
    "### Procurando valores nulos e outliers"
   ]
  },
  {
   "cell_type": "code",
   "execution_count": 34,
   "id": "4b509123",
   "metadata": {},
   "outputs": [
    {
     "name": "stdout",
     "output_type": "stream",
     "text": [
      "<class 'pandas.core.frame.DataFrame'>\n",
      "RangeIndex: 332 entries, 0 to 331\n",
      "Data columns (total 5 columns):\n",
      " #   Column             Non-Null Count  Dtype  \n",
      "---  ------             --------------  -----  \n",
      " 0   culmen_length_mm   332 non-null    float64\n",
      " 1   culmen_depth_mm    332 non-null    float64\n",
      " 2   flipper_length_mm  332 non-null    float64\n",
      " 3   body_mass_g        332 non-null    float64\n",
      " 4   sex                332 non-null    object \n",
      "dtypes: float64(4), object(1)\n",
      "memory usage: 13.1+ KB\n"
     ]
    }
   ],
   "source": [
    "penguins_df.info()"
   ]
  },
  {
   "cell_type": "code",
   "execution_count": 35,
   "id": "a8a891b2",
   "metadata": {},
   "outputs": [
    {
     "data": {
      "image/png": "[encoded data removed]",
      "text/plain": [
       "<Figure size 1200x1600 with 8 Axes>"
      ]
     },
     "metadata": {},
     "output_type": "display_data"
    }
   ],
   "source": [
    "import seaborn as sns\n",
    "\n",
    "# Usando seaborn para visualizar as distribuições\n",
    "fig, axes = plt.subplots(len(features), penguins_df['sex'].nunique(), figsize=(12, 16))\n",
    "fig.tight_layout(pad=5)\n",
    "\n",
    "for i, feature in enumerate(features):\n",
    "    for j, sex in enumerate(sex_categories):\n",
    "        ax = axes[i, j]\n",
    "        sex_penguins_subset = penguins_df[penguins_df['sex'] == sex]\n",
    "        sns.histplot(sex_penguins_subset, x=feature, kde=True, ax=ax, color='blue' if sex == 'MALE' else 'orange')\n",
    "        ax.set_title(f'{feature} ({sex})')"
   ]
  },
  {
   "cell_type": "markdown",
   "id": "6762e62a",
   "metadata": {},
   "source": [
    "Distribuições aparentam ser bimodais em todas as características, tanto para Male quanto para Female."
   ]
  },
  {
   "cell_type": "code",
   "execution_count": 36,
   "id": "f8746da3",
   "metadata": {},
   "outputs": [
    {
     "data": {
      "image/png": "[encoded data removed]",
      "text/plain": [
       "<Figure size 1400x1600 with 12 Axes>"
      ]
     },
     "metadata": {},
     "output_type": "display_data"
    }
   ],
   "source": [
    "# Criando objetos para plotar os boxplots\n",
    "\n",
    "fig, ax = plt.subplots(len(features), penguins_df['sex'].nunique()+1, figsize=(14, 16)) \n",
    "fig.tight_layout(pad=5)\n",
    "ax_set_xlim = { 'culmen_length_mm': [penguins_df['culmen_length_mm'].min()*0.95, penguins_df['culmen_length_mm'].max()*1.02],\n",
    "                'culmen_depth_mm': [penguins_df['culmen_depth_mm'].min()*0.95, penguins_df['culmen_depth_mm'].max()*1.02],\n",
    "                'flipper_length_mm': [penguins_df['flipper_length_mm'].min()*0.95, penguins_df['flipper_length_mm'].max()*1.02],\n",
    "                'body_mass_g': [penguins_df['body_mass_g'].min()*0.95, penguins_df['body_mass_g'].max()*1.02]\n",
    "    }\n",
    "\n",
    "\n",
    "# Adicionando categoria 'ALL' para contabilizar a distribuição geral na visualização dos boxplots\n",
    "# Apenas adiciona a categoria 'ALL' e contabiliza todas as entradas de uma vez ao invés de segregar (isso dentro do loop)\n",
    "\n",
    "sex_categories_plus_all = np.append(penguins_df['sex'].unique(), 'ALL')\n",
    "for i, feature in enumerate(features):\n",
    "    for j, sex in enumerate(sex_categories_plus_all):\n",
    "        axe = ax[i, j]\n",
    "        color = 'blue'\n",
    "        penguins_sex_subset = penguins_df[penguins_df['sex'] == sex]\n",
    "        if sex == 'ALL':\n",
    "            color = 'green'\n",
    "            penguins_sex_subset = penguins_df\n",
    "        elif sex == 'FEMALE':\n",
    "            color = 'orange'            \n",
    "        sns.boxplot(x=penguins_sex_subset[feature], ax=axe, color=color)\n",
    "        axe.set_xlim(ax_set_xlim[feature])\n",
    "        axe.set_title(f'{feature} ({sex})')\n",
    "\n",
    "\n",
    "plt.show()"
   ]
  },
  {
   "cell_type": "markdown",
   "id": "c86fbeee",
   "metadata": {},
   "source": [
    "Características Masculinas se mostram levemente superiores às Femininas. Vamos testar essa hipótese para confirmar."
   ]
  },
  {
   "cell_type": "code",
   "execution_count": null,
   "id": "5be34c92",
   "metadata": {},
   "outputs": [
    {
     "name": "stdout",
     "output_type": "stream",
     "text": [
      "Característica culmen_length_mm: T = 6.816101569584094, p-value = 4.458310888956517e-11\n",
      "Característica culmen_depth_mm: T = 7.223012992306065, p-value = 3.5395904316159235e-12\n",
      "Característica flipper_length_mm: T = 4.814769230513702, p-value = 2.248292028899214e-06\n",
      "Característica body_mass_g: T = 8.527570011315659, p-value = 5.465793277643544e-16\n"
     ]
    }
   ],
   "source": [
    "#  Comparação MALE e FEMALE\n",
    "# H0: Distribuições são iguais\n",
    "# H1: Distribuições são diferentes\n",
    "\n",
    "from scipy.stats import ttest_ind\n",
    "for feature in features:\n",
    "    ttest = ttest_ind(penguins_df[penguins_df['sex'] == 'MALE'][feature], penguins_df[penguins_df['sex'] == 'FEMALE'][feature])\n",
    "    print(f'Característica {feature}: T = {ttest.statistic}, p-value = {ttest.pvalue}')\n",
    "\n"
   ]
  },
  {
   "cell_type": "markdown",
   "id": "51d81ae6",
   "metadata": {},
   "source": [
    "Conclusões iniciais:\n",
    "\n",
    "- Não há dados faltantes\n",
    "\n",
    "- Os dados apresentam uma distribuição bimodais, ou seja, com duas regiões de maior ocorrência de dados, tanto para penguins masculinos quanto para penguins femininos\n",
    "\n",
    "- Sem outliers\n",
    "\n",
    "- Características físicas dos penguins do sexo masculino se mostram numericamente maiores que as do sexo feminino (P-Valor < 1e-6) "
   ]
  },
  {
   "cell_type": "markdown",
   "id": "e7c31e5f",
   "metadata": {},
   "source": [
    "## Etapa 2: Pré-processamento dos dados"
   ]
  },
  {
   "cell_type": "markdown",
   "id": "a1d58c9d",
   "metadata": {},
   "source": [
    "Criando Dummy_variables para features categóricas (no caso, apenas `sex`)"
   ]
  },
  {
   "cell_type": "code",
   "execution_count": 38,
   "id": "f4e0f83f",
   "metadata": {},
   "outputs": [
    {
     "data": {
      "application/vnd.microsoft.datawrangler.viewer.v0+json": {
       "columns": [
        {
         "name": "index",
         "rawType": "int64",
         "type": "integer"
        },
        {
         "name": "culmen_length_mm",
         "rawType": "float64",
         "type": "float"
        },
        {
         "name": "culmen_depth_mm",
         "rawType": "float64",
         "type": "float"
        },
        {
         "name": "flipper_length_mm",
         "rawType": "float64",
         "type": "float"
        },
        {
         "name": "body_mass_g",
         "rawType": "float64",
         "type": "float"
        },
        {
         "name": "sex_FEMALE",
         "rawType": "int32",
         "type": "integer"
        },
        {
         "name": "sex_MALE",
         "rawType": "int32",
         "type": "integer"
        }
       ],
       "ref": "2fa13cac-ca75-4da4-a561-961eff336221",
       "rows": [
        [
         "0",
         "39.1",
         "18.7",
         "181.0",
         "3750.0",
         "0",
         "1"
        ],
        [
         "1",
         "39.5",
         "17.4",
         "186.0",
         "3800.0",
         "1",
         "0"
        ],
        [
         "2",
         "40.3",
         "18.0",
         "195.0",
         "3250.0",
         "1",
         "0"
        ],
        [
         "3",
         "36.7",
         "19.3",
         "193.0",
         "3450.0",
         "1",
         "0"
        ],
        [
         "4",
         "39.3",
         "20.6",
         "190.0",
         "3650.0",
         "0",
         "1"
        ]
       ],
       "shape": {
        "columns": 6,
        "rows": 5
       }
      },
      "text/html": [
       "<div>\n",
       "<style scoped>\n",
       "    .dataframe tbody tr th:only-of-type {\n",
       "        vertical-align: middle;\n",
       "    }\n",
       "\n",
       "    .dataframe tbody tr th {\n",
       "        vertical-align: top;\n",
       "    }\n",
       "\n",
       "    .dataframe thead th {\n",
       "        text-align: right;\n",
       "    }\n",
       "</style>\n",
       "<table border=\"1\" class=\"dataframe\">\n",
       "  <thead>\n",
       "    <tr style=\"text-align: right;\">\n",
       "      <th></th>\n",
       "      <th>culmen_length_mm</th>\n",
       "      <th>culmen_depth_mm</th>\n",
       "      <th>flipper_length_mm</th>\n",
       "      <th>body_mass_g</th>\n",
       "      <th>sex_FEMALE</th>\n",
       "      <th>sex_MALE</th>\n",
       "    </tr>\n",
       "  </thead>\n",
       "  <tbody>\n",
       "    <tr>\n",
       "      <th>0</th>\n",
       "      <td>39.1</td>\n",
       "      <td>18.7</td>\n",
       "      <td>181.0</td>\n",
       "      <td>3750.0</td>\n",
       "      <td>0</td>\n",
       "      <td>1</td>\n",
       "    </tr>\n",
       "    <tr>\n",
       "      <th>1</th>\n",
       "      <td>39.5</td>\n",
       "      <td>17.4</td>\n",
       "      <td>186.0</td>\n",
       "      <td>3800.0</td>\n",
       "      <td>1</td>\n",
       "      <td>0</td>\n",
       "    </tr>\n",
       "    <tr>\n",
       "      <th>2</th>\n",
       "      <td>40.3</td>\n",
       "      <td>18.0</td>\n",
       "      <td>195.0</td>\n",
       "      <td>3250.0</td>\n",
       "      <td>1</td>\n",
       "      <td>0</td>\n",
       "    </tr>\n",
       "    <tr>\n",
       "      <th>3</th>\n",
       "      <td>36.7</td>\n",
       "      <td>19.3</td>\n",
       "      <td>193.0</td>\n",
       "      <td>3450.0</td>\n",
       "      <td>1</td>\n",
       "      <td>0</td>\n",
       "    </tr>\n",
       "    <tr>\n",
       "      <th>4</th>\n",
       "      <td>39.3</td>\n",
       "      <td>20.6</td>\n",
       "      <td>190.0</td>\n",
       "      <td>3650.0</td>\n",
       "      <td>0</td>\n",
       "      <td>1</td>\n",
       "    </tr>\n",
       "  </tbody>\n",
       "</table>\n",
       "</div>"
      ],
      "text/plain": [
       "   culmen_length_mm  culmen_depth_mm  flipper_length_mm  body_mass_g  \\\n",
       "0              39.1             18.7              181.0       3750.0   \n",
       "1              39.5             17.4              186.0       3800.0   \n",
       "2              40.3             18.0              195.0       3250.0   \n",
       "3              36.7             19.3              193.0       3450.0   \n",
       "4              39.3             20.6              190.0       3650.0   \n",
       "\n",
       "   sex_FEMALE  sex_MALE  \n",
       "0           0         1  \n",
       "1           1         0  \n",
       "2           1         0  \n",
       "3           1         0  \n",
       "4           0         1  "
      ]
     },
     "execution_count": 38,
     "metadata": {},
     "output_type": "execute_result"
    }
   ],
   "source": [
    "penguins_dummies = pd.get_dummies(data=penguins_df,columns=['sex'], dtype='int')\n",
    "penguins_dummies.head()"
   ]
  },
  {
   "cell_type": "code",
   "execution_count": 39,
   "id": "44618562",
   "metadata": {},
   "outputs": [
    {
     "data": {
      "application/vnd.microsoft.datawrangler.viewer.v0+json": {
       "columns": [
        {
         "name": "index",
         "rawType": "int64",
         "type": "integer"
        },
        {
         "name": "culmen_length_mm",
         "rawType": "float64",
         "type": "float"
        },
        {
         "name": "culmen_depth_mm",
         "rawType": "float64",
         "type": "float"
        },
        {
         "name": "flipper_length_mm",
         "rawType": "float64",
         "type": "float"
        },
        {
         "name": "body_mass_g",
         "rawType": "float64",
         "type": "float"
        }
       ],
       "ref": "c4045425-854c-4206-97a5-e36908c09e71",
       "rows": [
        [
         "0",
         "39.1",
         "18.7",
         "181.0",
         "3750.0"
        ],
        [
         "1",
         "39.5",
         "17.4",
         "186.0",
         "3800.0"
        ],
        [
         "2",
         "40.3",
         "18.0",
         "195.0",
         "3250.0"
        ],
        [
         "3",
         "36.7",
         "19.3",
         "193.0",
         "3450.0"
        ],
        [
         "4",
         "39.3",
         "20.6",
         "190.0",
         "3650.0"
        ]
       ],
       "shape": {
        "columns": 4,
        "rows": 5
       }
      },
      "text/html": [
       "<div>\n",
       "<style scoped>\n",
       "    .dataframe tbody tr th:only-of-type {\n",
       "        vertical-align: middle;\n",
       "    }\n",
       "\n",
       "    .dataframe tbody tr th {\n",
       "        vertical-align: top;\n",
       "    }\n",
       "\n",
       "    .dataframe thead th {\n",
       "        text-align: right;\n",
       "    }\n",
       "</style>\n",
       "<table border=\"1\" class=\"dataframe\">\n",
       "  <thead>\n",
       "    <tr style=\"text-align: right;\">\n",
       "      <th></th>\n",
       "      <th>culmen_length_mm</th>\n",
       "      <th>culmen_depth_mm</th>\n",
       "      <th>flipper_length_mm</th>\n",
       "      <th>body_mass_g</th>\n",
       "    </tr>\n",
       "  </thead>\n",
       "  <tbody>\n",
       "    <tr>\n",
       "      <th>0</th>\n",
       "      <td>39.1</td>\n",
       "      <td>18.7</td>\n",
       "      <td>181.0</td>\n",
       "      <td>3750.0</td>\n",
       "    </tr>\n",
       "    <tr>\n",
       "      <th>1</th>\n",
       "      <td>39.5</td>\n",
       "      <td>17.4</td>\n",
       "      <td>186.0</td>\n",
       "      <td>3800.0</td>\n",
       "    </tr>\n",
       "    <tr>\n",
       "      <th>2</th>\n",
       "      <td>40.3</td>\n",
       "      <td>18.0</td>\n",
       "      <td>195.0</td>\n",
       "      <td>3250.0</td>\n",
       "    </tr>\n",
       "    <tr>\n",
       "      <th>3</th>\n",
       "      <td>36.7</td>\n",
       "      <td>19.3</td>\n",
       "      <td>193.0</td>\n",
       "      <td>3450.0</td>\n",
       "    </tr>\n",
       "    <tr>\n",
       "      <th>4</th>\n",
       "      <td>39.3</td>\n",
       "      <td>20.6</td>\n",
       "      <td>190.0</td>\n",
       "      <td>3650.0</td>\n",
       "    </tr>\n",
       "  </tbody>\n",
       "</table>\n",
       "</div>"
      ],
      "text/plain": [
       "   culmen_length_mm  culmen_depth_mm  flipper_length_mm  body_mass_g\n",
       "0              39.1             18.7              181.0       3750.0\n",
       "1              39.5             17.4              186.0       3800.0\n",
       "2              40.3             18.0              195.0       3250.0\n",
       "3              36.7             19.3              193.0       3450.0\n",
       "4              39.3             20.6              190.0       3650.0"
      ]
     },
     "execution_count": 39,
     "metadata": {},
     "output_type": "execute_result"
    }
   ],
   "source": [
    "penguins_numeric = penguins_dummies.drop(columns=['sex_FEMALE', 'sex_MALE'])\n",
    "penguins_numeric.head()"
   ]
  },
  {
   "cell_type": "markdown",
   "id": "95ad603d",
   "metadata": {},
   "source": [
    "Aplicando StandardScaler()"
   ]
  },
  {
   "cell_type": "code",
   "execution_count": 46,
   "id": "308bfbaf",
   "metadata": {},
   "outputs": [
    {
     "data": {
      "application/vnd.microsoft.datawrangler.viewer.v0+json": {
       "columns": [
        {
         "name": "index",
         "rawType": "int64",
         "type": "integer"
        },
        {
         "name": "culmen_length_mm",
         "rawType": "float64",
         "type": "float"
        },
        {
         "name": "culmen_depth_mm",
         "rawType": "float64",
         "type": "float"
        },
        {
         "name": "flipper_length_mm",
         "rawType": "float64",
         "type": "float"
        },
        {
         "name": "body_mass_g",
         "rawType": "float64",
         "type": "float"
        },
        {
         "name": "sex_FEMALE",
         "rawType": "int32",
         "type": "integer"
        },
        {
         "name": "sex_MALE",
         "rawType": "int32",
         "type": "integer"
        }
       ],
       "ref": "94826d79-1797-433d-ada9-e335b40bf191",
       "rows": [
        [
         "0",
         "-0.9039058557262827",
         "0.79035987165517",
         "-1.425341786653953",
         "-0.5669480131865731",
         "0",
         "1"
        ],
        [
         "1",
         "-0.8304337675634416",
         "0.12618673963341823",
         "-1.06857650229847",
         "-0.5048474719863282",
         "1",
         "0"
        ],
        [
         "2",
         "-0.6834895912377592",
         "0.4327281851819196",
         "-0.4263989904586006",
         "-1.187953425189022",
         "1",
         "0"
        ],
        [
         "3",
         "-1.344738384703331",
         "1.0969013172036712",
         "-0.5691051042007937",
         "-0.9395512603880425",
         "1",
         "0"
        ],
        [
         "4",
         "-0.8671698116448627",
         "1.761074449225423",
         "-0.7831642748140836",
         "-0.691149095587063",
         "0",
         "1"
        ]
       ],
       "shape": {
        "columns": 6,
        "rows": 5
       }
      },
      "text/html": [
       "<div>\n",
       "<style scoped>\n",
       "    .dataframe tbody tr th:only-of-type {\n",
       "        vertical-align: middle;\n",
       "    }\n",
       "\n",
       "    .dataframe tbody tr th {\n",
       "        vertical-align: top;\n",
       "    }\n",
       "\n",
       "    .dataframe thead th {\n",
       "        text-align: right;\n",
       "    }\n",
       "</style>\n",
       "<table border=\"1\" class=\"dataframe\">\n",
       "  <thead>\n",
       "    <tr style=\"text-align: right;\">\n",
       "      <th></th>\n",
       "      <th>culmen_length_mm</th>\n",
       "      <th>culmen_depth_mm</th>\n",
       "      <th>flipper_length_mm</th>\n",
       "      <th>body_mass_g</th>\n",
       "      <th>sex_FEMALE</th>\n",
       "      <th>sex_MALE</th>\n",
       "    </tr>\n",
       "  </thead>\n",
       "  <tbody>\n",
       "    <tr>\n",
       "      <th>0</th>\n",
       "      <td>-0.903906</td>\n",
       "      <td>0.790360</td>\n",
       "      <td>-1.425342</td>\n",
       "      <td>-0.566948</td>\n",
       "      <td>0</td>\n",
       "      <td>1</td>\n",
       "    </tr>\n",
       "    <tr>\n",
       "      <th>1</th>\n",
       "      <td>-0.830434</td>\n",
       "      <td>0.126187</td>\n",
       "      <td>-1.068577</td>\n",
       "      <td>-0.504847</td>\n",
       "      <td>1</td>\n",
       "      <td>0</td>\n",
       "    </tr>\n",
       "    <tr>\n",
       "      <th>2</th>\n",
       "      <td>-0.683490</td>\n",
       "      <td>0.432728</td>\n",
       "      <td>-0.426399</td>\n",
       "      <td>-1.187953</td>\n",
       "      <td>1</td>\n",
       "      <td>0</td>\n",
       "    </tr>\n",
       "    <tr>\n",
       "      <th>3</th>\n",
       "      <td>-1.344738</td>\n",
       "      <td>1.096901</td>\n",
       "      <td>-0.569105</td>\n",
       "      <td>-0.939551</td>\n",
       "      <td>1</td>\n",
       "      <td>0</td>\n",
       "    </tr>\n",
       "    <tr>\n",
       "      <th>4</th>\n",
       "      <td>-0.867170</td>\n",
       "      <td>1.761074</td>\n",
       "      <td>-0.783164</td>\n",
       "      <td>-0.691149</td>\n",
       "      <td>0</td>\n",
       "      <td>1</td>\n",
       "    </tr>\n",
       "  </tbody>\n",
       "</table>\n",
       "</div>"
      ],
      "text/plain": [
       "   culmen_length_mm  culmen_depth_mm  flipper_length_mm  body_mass_g  \\\n",
       "0         -0.903906         0.790360          -1.425342    -0.566948   \n",
       "1         -0.830434         0.126187          -1.068577    -0.504847   \n",
       "2         -0.683490         0.432728          -0.426399    -1.187953   \n",
       "3         -1.344738         1.096901          -0.569105    -0.939551   \n",
       "4         -0.867170         1.761074          -0.783164    -0.691149   \n",
       "\n",
       "   sex_FEMALE  sex_MALE  \n",
       "0           0         1  \n",
       "1           1         0  \n",
       "2           1         0  \n",
       "3           1         0  \n",
       "4           0         1  "
      ]
     },
     "execution_count": 46,
     "metadata": {},
     "output_type": "execute_result"
    }
   ],
   "source": [
    "from sklearn.preprocessing import StandardScaler\n",
    "\n",
    "# Inicializando StandardScaler e aplicando no df com dummies\n",
    "scaler = StandardScaler()\n",
    "X = scaler.fit_transform(penguins_numeric)\n",
    "penguins_numeric_scaled = pd.DataFrame(data=X, columns=penguins_numeric.columns)\n",
    "\n",
    "penguins_scaled = pd.concat([penguins_numeric_scaled, penguins_dummies[['sex_FEMALE', 'sex_MALE']]], axis=1)\n",
    "penguins_scaled.head()\n"
   ]
  },
  {
   "cell_type": "code",
   "execution_count": 47,
   "id": "63757e66",
   "metadata": {},
   "outputs": [
    {
     "data": {
      "image/png": "[encoded data removed]",
      "text/plain": [
       "<Figure size 640x480 with 1 Axes>"
      ]
     },
     "metadata": {},
     "output_type": "display_data"
    }
   ],
   "source": [
    "plt.plot(penguins_scaled['culmen_length_mm'], penguins_scaled['body_mass_g'], 'o')\n",
    "plt.xlabel('culmen_length_mm')\n",
    "plt.ylabel('body_mass_g')\n",
    "plt.show()"
   ]
  },
  {
   "cell_type": "markdown",
   "id": "023a7951",
   "metadata": {},
   "source": [
    "## Etapa 3: Definindo a quantidade de clusters"
   ]
  },
  {
   "cell_type": "markdown",
   "id": "13964787",
   "metadata": {},
   "source": [
    "Importar KMeans, aplicar KMeans variando n_clusters e obtendo inércia de cada modelo. Visualizar gráfico de Inércia em função de n_clusters e escolher n_clusters"
   ]
  },
  {
   "cell_type": "code",
   "execution_count": 51,
   "id": "cdef51c5",
   "metadata": {},
   "outputs": [
    {
     "name": "stderr",
     "output_type": "stream",
     "text": [
      "c:\\Users\\User\\anaconda3\\Lib\\site-packages\\sklearn\\cluster\\_kmeans.py:1419: UserWarning: KMeans is known to have a memory leak on Windows with MKL, when there are less chunks than available threads. You can avoid it by setting the environment variable OMP_NUM_THREADS=2.\n",
      "  warnings.warn(\n",
      "c:\\Users\\User\\anaconda3\\Lib\\site-packages\\sklearn\\cluster\\_kmeans.py:1419: UserWarning: KMeans is known to have a memory leak on Windows with MKL, when there are less chunks than available threads. You can avoid it by setting the environment variable OMP_NUM_THREADS=2.\n",
      "  warnings.warn(\n",
      "c:\\Users\\User\\anaconda3\\Lib\\site-packages\\sklearn\\cluster\\_kmeans.py:1419: UserWarning: KMeans is known to have a memory leak on Windows with MKL, when there are less chunks than available threads. You can avoid it by setting the environment variable OMP_NUM_THREADS=2.\n",
      "  warnings.warn(\n",
      "c:\\Users\\User\\anaconda3\\Lib\\site-packages\\sklearn\\cluster\\_kmeans.py:1419: UserWarning: KMeans is known to have a memory leak on Windows with MKL, when there are less chunks than available threads. You can avoid it by setting the environment variable OMP_NUM_THREADS=2.\n",
      "  warnings.warn(\n",
      "c:\\Users\\User\\anaconda3\\Lib\\site-packages\\sklearn\\cluster\\_kmeans.py:1419: UserWarning: KMeans is known to have a memory leak on Windows with MKL, when there are less chunks than available threads. You can avoid it by setting the environment variable OMP_NUM_THREADS=2.\n",
      "  warnings.warn(\n",
      "c:\\Users\\User\\anaconda3\\Lib\\site-packages\\sklearn\\cluster\\_kmeans.py:1419: UserWarning: KMeans is known to have a memory leak on Windows with MKL, when there are less chunks than available threads. You can avoid it by setting the environment variable OMP_NUM_THREADS=2.\n",
      "  warnings.warn(\n",
      "c:\\Users\\User\\anaconda3\\Lib\\site-packages\\sklearn\\cluster\\_kmeans.py:1419: UserWarning: KMeans is known to have a memory leak on Windows with MKL, when there are less chunks than available threads. You can avoid it by setting the environment variable OMP_NUM_THREADS=2.\n",
      "  warnings.warn(\n",
      "c:\\Users\\User\\anaconda3\\Lib\\site-packages\\sklearn\\cluster\\_kmeans.py:1419: UserWarning: KMeans is known to have a memory leak on Windows with MKL, when there are less chunks than available threads. You can avoid it by setting the environment variable OMP_NUM_THREADS=2.\n",
      "  warnings.warn(\n",
      "c:\\Users\\User\\anaconda3\\Lib\\site-packages\\sklearn\\cluster\\_kmeans.py:1419: UserWarning: KMeans is known to have a memory leak on Windows with MKL, when there are less chunks than available threads. You can avoid it by setting the environment variable OMP_NUM_THREADS=2.\n",
      "  warnings.warn(\n",
      "c:\\Users\\User\\anaconda3\\Lib\\site-packages\\sklearn\\cluster\\_kmeans.py:1419: UserWarning: KMeans is known to have a memory leak on Windows with MKL, when there are less chunks than available threads. You can avoid it by setting the environment variable OMP_NUM_THREADS=2.\n",
      "  warnings.warn(\n",
      "c:\\Users\\User\\anaconda3\\Lib\\site-packages\\sklearn\\cluster\\_kmeans.py:1419: UserWarning: KMeans is known to have a memory leak on Windows with MKL, when there are less chunks than available threads. You can avoid it by setting the environment variable OMP_NUM_THREADS=2.\n",
      "  warnings.warn(\n",
      "c:\\Users\\User\\anaconda3\\Lib\\site-packages\\sklearn\\cluster\\_kmeans.py:1419: UserWarning: KMeans is known to have a memory leak on Windows with MKL, when there are less chunks than available threads. You can avoid it by setting the environment variable OMP_NUM_THREADS=2.\n",
      "  warnings.warn(\n",
      "c:\\Users\\User\\anaconda3\\Lib\\site-packages\\sklearn\\cluster\\_kmeans.py:1419: UserWarning: KMeans is known to have a memory leak on Windows with MKL, when there are less chunks than available threads. You can avoid it by setting the environment variable OMP_NUM_THREADS=2.\n",
      "  warnings.warn(\n",
      "c:\\Users\\User\\anaconda3\\Lib\\site-packages\\sklearn\\cluster\\_kmeans.py:1419: UserWarning: KMeans is known to have a memory leak on Windows with MKL, when there are less chunks than available threads. You can avoid it by setting the environment variable OMP_NUM_THREADS=2.\n",
      "  warnings.warn(\n",
      "c:\\Users\\User\\anaconda3\\Lib\\site-packages\\sklearn\\cluster\\_kmeans.py:1419: UserWarning: KMeans is known to have a memory leak on Windows with MKL, when there are less chunks than available threads. You can avoid it by setting the environment variable OMP_NUM_THREADS=2.\n",
      "  warnings.warn(\n",
      "c:\\Users\\User\\anaconda3\\Lib\\site-packages\\sklearn\\cluster\\_kmeans.py:1419: UserWarning: KMeans is known to have a memory leak on Windows with MKL, when there are less chunks than available threads. You can avoid it by setting the environment variable OMP_NUM_THREADS=2.\n",
      "  warnings.warn(\n"
     ]
    },
    {
     "data": {
      "image/png": "[encoded data removed]",
      "text/plain": [
       "<Figure size 640x480 with 1 Axes>"
      ]
     },
     "metadata": {},
     "output_type": "display_data"
    }
   ],
   "source": [
    "from sklearn.cluster import KMeans\n",
    "\n",
    "n_clusters = []\n",
    "inertia = []\n",
    "for i in range(1, 17):\n",
    "    kmeans_test = KMeans(n_clusters=i, random_state=42)\n",
    "    kmeans_test.fit(X)\n",
    "    n_clusters = np.append(n_clusters, i)\n",
    "    inertia = np.append(inertia, kmeans_test.inertia_)\n",
    "    \n",
    "plt.plot(n_clusters, inertia, marker='o')\n",
    "plt.xlabel('N° de Clusters')\n",
    "plt.ylabel('Inércia')\n",
    "plt.show()\n"
   ]
  },
  {
   "cell_type": "markdown",
   "id": "8a0efca7",
   "metadata": {},
   "source": [
    "Inércia desce acentuadamente até n=4, onde então tem uma redução cada vez menor. Portanto, pela eurística define-se n_clusters=4. \n",
    "\n",
    "No entanto, vemos que há uma segunda descida em n_clusters = 8, argumentavelmente representando que a melhor segregação seria segregar em **Características físicas e Sexo Simultâneamente**.\n",
    "\n",
    "Como a redução de inércia não se mostra tão significativa entre 4 e 8 clusters, e como inferimos que essa diferença ocorre devido à variações pelo sexo, iremos à priore utilizar n_clusters=4."
   ]
  },
  {
   "cell_type": "markdown",
   "id": "1b002d31",
   "metadata": {},
   "source": [
    "## Etapa 4: Aplicando modelo com n_clusters=4"
   ]
  },
  {
   "cell_type": "code",
   "execution_count": 54,
   "id": "78340027",
   "metadata": {},
   "outputs": [
    {
     "name": "stderr",
     "output_type": "stream",
     "text": [
      "c:\\Users\\User\\anaconda3\\Lib\\site-packages\\sklearn\\cluster\\_kmeans.py:1419: UserWarning: KMeans is known to have a memory leak on Windows with MKL, when there are less chunks than available threads. You can avoid it by setting the environment variable OMP_NUM_THREADS=2.\n",
      "  warnings.warn(\n"
     ]
    },
    {
     "data": {
      "application/vnd.microsoft.datawrangler.viewer.v0+json": {
       "columns": [
        {
         "name": "index",
         "rawType": "int64",
         "type": "integer"
        },
        {
         "name": "culmen_length_mm",
         "rawType": "float64",
         "type": "float"
        },
        {
         "name": "culmen_depth_mm",
         "rawType": "float64",
         "type": "float"
        },
        {
         "name": "flipper_length_mm",
         "rawType": "float64",
         "type": "float"
        },
        {
         "name": "body_mass_g",
         "rawType": "float64",
         "type": "float"
        },
        {
         "name": "sex",
         "rawType": "object",
         "type": "string"
        },
        {
         "name": "cluster",
         "rawType": "int32",
         "type": "integer"
        }
       ],
       "ref": "e7d1d96e-46f8-4f6c-adc7-f98df072175d",
       "rows": [
        [
         "0",
         "39.1",
         "18.7",
         "181.0",
         "3750.0",
         "MALE",
         "2"
        ],
        [
         "1",
         "39.5",
         "17.4",
         "186.0",
         "3800.0",
         "FEMALE",
         "2"
        ],
        [
         "2",
         "40.3",
         "18.0",
         "195.0",
         "3250.0",
         "FEMALE",
         "2"
        ],
        [
         "3",
         "36.7",
         "19.3",
         "193.0",
         "3450.0",
         "FEMALE",
         "2"
        ],
        [
         "4",
         "39.3",
         "20.6",
         "190.0",
         "3650.0",
         "MALE",
         "0"
        ],
        [
         "5",
         "38.9",
         "17.8",
         "181.0",
         "3625.0",
         "FEMALE",
         "2"
        ],
        [
         "6",
         "39.2",
         "19.6",
         "195.0",
         "4675.0",
         "MALE",
         "0"
        ],
        [
         "7",
         "41.1",
         "17.6",
         "182.0",
         "3200.0",
         "FEMALE",
         "2"
        ],
        [
         "8",
         "38.6",
         "21.2",
         "191.0",
         "3800.0",
         "MALE",
         "0"
        ],
        [
         "9",
         "36.6",
         "17.8",
         "185.0",
         "3700.0",
         "FEMALE",
         "2"
        ],
        [
         "10",
         "38.7",
         "19.0",
         "195.0",
         "3450.0",
         "FEMALE",
         "0"
        ],
        [
         "11",
         "42.5",
         "20.7",
         "197.0",
         "4500.0",
         "MALE",
         "0"
        ],
        [
         "12",
         "34.4",
         "18.4",
         "184.0",
         "3325.0",
         "FEMALE",
         "2"
        ],
        [
         "13",
         "46.0",
         "21.5",
         "194.0",
         "4200.0",
         "MALE",
         "0"
        ],
        [
         "14",
         "37.8",
         "18.3",
         "174.0",
         "3400.0",
         "FEMALE",
         "2"
        ],
        [
         "15",
         "37.7",
         "18.7",
         "180.0",
         "3600.0",
         "MALE",
         "2"
        ],
        [
         "16",
         "35.9",
         "19.2",
         "189.0",
         "3800.0",
         "FEMALE",
         "0"
        ],
        [
         "17",
         "38.2",
         "18.1",
         "185.0",
         "3950.0",
         "MALE",
         "2"
        ],
        [
         "18",
         "38.8",
         "17.2",
         "180.0",
         "3800.0",
         "MALE",
         "2"
        ],
        [
         "19",
         "35.3",
         "18.9",
         "187.0",
         "3800.0",
         "FEMALE",
         "2"
        ],
        [
         "20",
         "40.6",
         "18.6",
         "183.0",
         "3550.0",
         "MALE",
         "2"
        ],
        [
         "21",
         "40.5",
         "17.9",
         "187.0",
         "3200.0",
         "FEMALE",
         "2"
        ],
        [
         "22",
         "37.9",
         "18.6",
         "172.0",
         "3150.0",
         "FEMALE",
         "2"
        ],
        [
         "23",
         "40.5",
         "18.9",
         "180.0",
         "3950.0",
         "MALE",
         "0"
        ],
        [
         "24",
         "39.5",
         "16.7",
         "178.0",
         "3250.0",
         "FEMALE",
         "2"
        ],
        [
         "25",
         "37.2",
         "18.1",
         "178.0",
         "3900.0",
         "MALE",
         "2"
        ],
        [
         "26",
         "39.5",
         "17.8",
         "188.0",
         "3300.0",
         "FEMALE",
         "2"
        ],
        [
         "27",
         "40.9",
         "18.9",
         "184.0",
         "3900.0",
         "MALE",
         "0"
        ],
        [
         "28",
         "36.4",
         "17.0",
         "195.0",
         "3325.0",
         "FEMALE",
         "2"
        ],
        [
         "29",
         "39.2",
         "21.1",
         "196.0",
         "4150.0",
         "MALE",
         "0"
        ],
        [
         "30",
         "38.8",
         "20.0",
         "190.0",
         "3950.0",
         "MALE",
         "0"
        ],
        [
         "31",
         "42.2",
         "18.5",
         "180.0",
         "3550.0",
         "FEMALE",
         "2"
        ],
        [
         "32",
         "37.6",
         "19.3",
         "181.0",
         "3300.0",
         "FEMALE",
         "2"
        ],
        [
         "33",
         "39.8",
         "19.1",
         "184.0",
         "4650.0",
         "MALE",
         "0"
        ],
        [
         "34",
         "36.5",
         "18.0",
         "182.0",
         "3150.0",
         "FEMALE",
         "2"
        ],
        [
         "35",
         "40.8",
         "18.4",
         "195.0",
         "3900.0",
         "MALE",
         "0"
        ],
        [
         "36",
         "36.0",
         "18.5",
         "186.0",
         "3100.0",
         "FEMALE",
         "2"
        ],
        [
         "37",
         "44.1",
         "19.7",
         "196.0",
         "4400.0",
         "MALE",
         "0"
        ],
        [
         "38",
         "37.0",
         "16.9",
         "185.0",
         "3000.0",
         "FEMALE",
         "2"
        ],
        [
         "39",
         "39.6",
         "18.8",
         "190.0",
         "4600.0",
         "MALE",
         "0"
        ],
        [
         "40",
         "41.1",
         "19.0",
         "182.0",
         "3425.0",
         "MALE",
         "2"
        ],
        [
         "41",
         "36.0",
         "17.9",
         "190.0",
         "3450.0",
         "FEMALE",
         "2"
        ],
        [
         "42",
         "42.3",
         "21.2",
         "191.0",
         "4150.0",
         "MALE",
         "0"
        ],
        [
         "43",
         "39.6",
         "17.7",
         "186.0",
         "3500.0",
         "FEMALE",
         "2"
        ],
        [
         "44",
         "40.1",
         "18.9",
         "188.0",
         "4300.0",
         "MALE",
         "0"
        ],
        [
         "45",
         "35.0",
         "17.9",
         "190.0",
         "3450.0",
         "FEMALE",
         "2"
        ],
        [
         "46",
         "42.0",
         "19.5",
         "200.0",
         "4050.0",
         "MALE",
         "0"
        ],
        [
         "47",
         "34.5",
         "18.1",
         "187.0",
         "2900.0",
         "FEMALE",
         "2"
        ],
        [
         "48",
         "41.4",
         "18.6",
         "191.0",
         "3700.0",
         "MALE",
         "0"
        ],
        [
         "49",
         "39.0",
         "17.5",
         "186.0",
         "3550.0",
         "FEMALE",
         "2"
        ]
       ],
       "shape": {
        "columns": 6,
        "rows": 332
       }
      },
      "text/html": [
       "<div>\n",
       "<style scoped>\n",
       "    .dataframe tbody tr th:only-of-type {\n",
       "        vertical-align: middle;\n",
       "    }\n",
       "\n",
       "    .dataframe tbody tr th {\n",
       "        vertical-align: top;\n",
       "    }\n",
       "\n",
       "    .dataframe thead th {\n",
       "        text-align: right;\n",
       "    }\n",
       "</style>\n",
       "<table border=\"1\" class=\"dataframe\">\n",
       "  <thead>\n",
       "    <tr style=\"text-align: right;\">\n",
       "      <th></th>\n",
       "      <th>culmen_length_mm</th>\n",
       "      <th>culmen_depth_mm</th>\n",
       "      <th>flipper_length_mm</th>\n",
       "      <th>body_mass_g</th>\n",
       "      <th>sex</th>\n",
       "      <th>cluster</th>\n",
       "    </tr>\n",
       "  </thead>\n",
       "  <tbody>\n",
       "    <tr>\n",
       "      <th>0</th>\n",
       "      <td>39.1</td>\n",
       "      <td>18.7</td>\n",
       "      <td>181.0</td>\n",
       "      <td>3750.0</td>\n",
       "      <td>MALE</td>\n",
       "      <td>2</td>\n",
       "    </tr>\n",
       "    <tr>\n",
       "      <th>1</th>\n",
       "      <td>39.5</td>\n",
       "      <td>17.4</td>\n",
       "      <td>186.0</td>\n",
       "      <td>3800.0</td>\n",
       "      <td>FEMALE</td>\n",
       "      <td>2</td>\n",
       "    </tr>\n",
       "    <tr>\n",
       "      <th>2</th>\n",
       "      <td>40.3</td>\n",
       "      <td>18.0</td>\n",
       "      <td>195.0</td>\n",
       "      <td>3250.0</td>\n",
       "      <td>FEMALE</td>\n",
       "      <td>2</td>\n",
       "    </tr>\n",
       "    <tr>\n",
       "      <th>3</th>\n",
       "      <td>36.7</td>\n",
       "      <td>19.3</td>\n",
       "      <td>193.0</td>\n",
       "      <td>3450.0</td>\n",
       "      <td>FEMALE</td>\n",
       "      <td>2</td>\n",
       "    </tr>\n",
       "    <tr>\n",
       "      <th>4</th>\n",
       "      <td>39.3</td>\n",
       "      <td>20.6</td>\n",
       "      <td>190.0</td>\n",
       "      <td>3650.0</td>\n",
       "      <td>MALE</td>\n",
       "      <td>0</td>\n",
       "    </tr>\n",
       "    <tr>\n",
       "      <th>...</th>\n",
       "      <td>...</td>\n",
       "      <td>...</td>\n",
       "      <td>...</td>\n",
       "      <td>...</td>\n",
       "      <td>...</td>\n",
       "      <td>...</td>\n",
       "    </tr>\n",
       "    <tr>\n",
       "      <th>327</th>\n",
       "      <td>47.2</td>\n",
       "      <td>13.7</td>\n",
       "      <td>214.0</td>\n",
       "      <td>4925.0</td>\n",
       "      <td>FEMALE</td>\n",
       "      <td>1</td>\n",
       "    </tr>\n",
       "    <tr>\n",
       "      <th>328</th>\n",
       "      <td>46.8</td>\n",
       "      <td>14.3</td>\n",
       "      <td>215.0</td>\n",
       "      <td>4850.0</td>\n",
       "      <td>FEMALE</td>\n",
       "      <td>1</td>\n",
       "    </tr>\n",
       "    <tr>\n",
       "      <th>329</th>\n",
       "      <td>50.4</td>\n",
       "      <td>15.7</td>\n",
       "      <td>222.0</td>\n",
       "      <td>5750.0</td>\n",
       "      <td>MALE</td>\n",
       "      <td>1</td>\n",
       "    </tr>\n",
       "    <tr>\n",
       "      <th>330</th>\n",
       "      <td>45.2</td>\n",
       "      <td>14.8</td>\n",
       "      <td>212.0</td>\n",
       "      <td>5200.0</td>\n",
       "      <td>FEMALE</td>\n",
       "      <td>1</td>\n",
       "    </tr>\n",
       "    <tr>\n",
       "      <th>331</th>\n",
       "      <td>49.9</td>\n",
       "      <td>16.1</td>\n",
       "      <td>213.0</td>\n",
       "      <td>5400.0</td>\n",
       "      <td>MALE</td>\n",
       "      <td>1</td>\n",
       "    </tr>\n",
       "  </tbody>\n",
       "</table>\n",
       "<p>332 rows × 6 columns</p>\n",
       "</div>"
      ],
      "text/plain": [
       "     culmen_length_mm  culmen_depth_mm  flipper_length_mm  body_mass_g  \\\n",
       "0                39.1             18.7              181.0       3750.0   \n",
       "1                39.5             17.4              186.0       3800.0   \n",
       "2                40.3             18.0              195.0       3250.0   \n",
       "3                36.7             19.3              193.0       3450.0   \n",
       "4                39.3             20.6              190.0       3650.0   \n",
       "..                ...              ...                ...          ...   \n",
       "327              47.2             13.7              214.0       4925.0   \n",
       "328              46.8             14.3              215.0       4850.0   \n",
       "329              50.4             15.7              222.0       5750.0   \n",
       "330              45.2             14.8              212.0       5200.0   \n",
       "331              49.9             16.1              213.0       5400.0   \n",
       "\n",
       "        sex  cluster  \n",
       "0      MALE        2  \n",
       "1    FEMALE        2  \n",
       "2    FEMALE        2  \n",
       "3    FEMALE        2  \n",
       "4      MALE        0  \n",
       "..      ...      ...  \n",
       "327  FEMALE        1  \n",
       "328  FEMALE        1  \n",
       "329    MALE        1  \n",
       "330  FEMALE        1  \n",
       "331    MALE        1  \n",
       "\n",
       "[332 rows x 6 columns]"
      ]
     },
     "execution_count": 54,
     "metadata": {},
     "output_type": "execute_result"
    }
   ],
   "source": [
    "n_clusters_optimal = 4\n",
    "\n",
    "kmeans = KMeans(n_clusters=n_clusters_optimal, random_state=42)\n",
    "kmeans.fit(X)\n",
    "\n",
    "penguins_df['cluster'] = kmeans.labels_\n",
    "penguins_df\n"
   ]
  },
  {
   "cell_type": "code",
   "execution_count": 55,
   "id": "04d25000",
   "metadata": {},
   "outputs": [
    {
     "data": {
      "image/png": "[encoded data removed]",
      "text/plain": [
       "<Figure size 1000x800 with 1 Axes>"
      ]
     },
     "metadata": {},
     "output_type": "display_data"
    }
   ],
   "source": [
    "plt.figure(figsize=(10, 8))\n",
    "sns.scatterplot(data=penguins_df, x='culmen_length_mm', y='cluster', hue='sex')\n",
    "plt.show()"
   ]
  },
  {
   "cell_type": "markdown",
   "id": "d3cacc15",
   "metadata": {},
   "source": [
    "## Etapa 5: Retornando resultados"
   ]
  },
  {
   "cell_type": "code",
   "execution_count": 16,
   "id": "959eeb67",
   "metadata": {},
   "outputs": [
    {
     "data": {
      "application/vnd.microsoft.datawrangler.viewer.v0+json": {
       "columns": [
        {
         "name": "cluster",
         "rawType": "int32",
         "type": "integer"
        },
        {
         "name": "culmen_length_mm",
         "rawType": "float64",
         "type": "float"
        },
        {
         "name": "culmen_depth_mm",
         "rawType": "float64",
         "type": "float"
        },
        {
         "name": "flipper_length_mm",
         "rawType": "float64",
         "type": "float"
        }
       ],
       "ref": "818a3e96-5f1e-4fa1-83ba-e2b795432144",
       "rows": [
        [
         "0",
         "43.87830188679246",
         "19.11132075471698",
         "194.76415094339623"
        ],
        [
         "1",
         "45.563793103448276",
         "14.237931034482758",
         "212.70689655172413"
        ],
        [
         "2",
         "40.217757009345796",
         "17.61121495327103",
         "189.0467289719626"
        ],
        [
         "3",
         "49.47377049180328",
         "15.718032786885246",
         "221.54098360655738"
        ]
       ],
       "shape": {
        "columns": 3,
        "rows": 4
       }
      },
      "text/html": [
       "<div>\n",
       "<style scoped>\n",
       "    .dataframe tbody tr th:only-of-type {\n",
       "        vertical-align: middle;\n",
       "    }\n",
       "\n",
       "    .dataframe tbody tr th {\n",
       "        vertical-align: top;\n",
       "    }\n",
       "\n",
       "    .dataframe thead th {\n",
       "        text-align: right;\n",
       "    }\n",
       "</style>\n",
       "<table border=\"1\" class=\"dataframe\">\n",
       "  <thead>\n",
       "    <tr style=\"text-align: right;\">\n",
       "      <th></th>\n",
       "      <th>culmen_length_mm</th>\n",
       "      <th>culmen_depth_mm</th>\n",
       "      <th>flipper_length_mm</th>\n",
       "    </tr>\n",
       "    <tr>\n",
       "      <th>cluster</th>\n",
       "      <th></th>\n",
       "      <th></th>\n",
       "      <th></th>\n",
       "    </tr>\n",
       "  </thead>\n",
       "  <tbody>\n",
       "    <tr>\n",
       "      <th>0</th>\n",
       "      <td>43.878302</td>\n",
       "      <td>19.111321</td>\n",
       "      <td>194.764151</td>\n",
       "    </tr>\n",
       "    <tr>\n",
       "      <th>1</th>\n",
       "      <td>45.563793</td>\n",
       "      <td>14.237931</td>\n",
       "      <td>212.706897</td>\n",
       "    </tr>\n",
       "    <tr>\n",
       "      <th>2</th>\n",
       "      <td>40.217757</td>\n",
       "      <td>17.611215</td>\n",
       "      <td>189.046729</td>\n",
       "    </tr>\n",
       "    <tr>\n",
       "      <th>3</th>\n",
       "      <td>49.473770</td>\n",
       "      <td>15.718033</td>\n",
       "      <td>221.540984</td>\n",
       "    </tr>\n",
       "  </tbody>\n",
       "</table>\n",
       "</div>"
      ],
      "text/plain": [
       "         culmen_length_mm  culmen_depth_mm  flipper_length_mm\n",
       "cluster                                                      \n",
       "0               43.878302        19.111321         194.764151\n",
       "1               45.563793        14.237931         212.706897\n",
       "2               40.217757        17.611215         189.046729\n",
       "3               49.473770        15.718033         221.540984"
      ]
     },
     "execution_count": 16,
     "metadata": {},
     "output_type": "execute_result"
    }
   ],
   "source": [
    "stat_penguins = penguins_df[['culmen_length_mm', 'culmen_depth_mm', 'flipper_length_mm','cluster']].groupby('cluster').mean()\n",
    "stat_penguins"
   ]
  },
  {
   "cell_type": "markdown",
   "id": "3c2cfe38",
   "metadata": {},
   "source": [
    "## Clusterizando para n_clusters = 8 e comparando os resultados"
   ]
  },
  {
   "cell_type": "code",
   "execution_count": 56,
   "id": "b8039ac0",
   "metadata": {},
   "outputs": [
    {
     "name": "stderr",
     "output_type": "stream",
     "text": [
      "c:\\Users\\User\\anaconda3\\Lib\\site-packages\\sklearn\\cluster\\_kmeans.py:1419: UserWarning: KMeans is known to have a memory leak on Windows with MKL, when there are less chunks than available threads. You can avoid it by setting the environment variable OMP_NUM_THREADS=2.\n",
      "  warnings.warn(\n"
     ]
    },
    {
     "data": {
      "application/vnd.microsoft.datawrangler.viewer.v0+json": {
       "columns": [
        {
         "name": "index",
         "rawType": "int64",
         "type": "integer"
        },
        {
         "name": "culmen_length_mm",
         "rawType": "float64",
         "type": "float"
        },
        {
         "name": "culmen_depth_mm",
         "rawType": "float64",
         "type": "float"
        },
        {
         "name": "flipper_length_mm",
         "rawType": "float64",
         "type": "float"
        },
        {
         "name": "body_mass_g",
         "rawType": "float64",
         "type": "float"
        },
        {
         "name": "sex",
         "rawType": "object",
         "type": "string"
        },
        {
         "name": "cluster",
         "rawType": "int32",
         "type": "integer"
        }
       ],
       "ref": "dd794d33-bb04-4413-ad24-ea4fecc3cd29",
       "rows": [
        [
         "0",
         "39.1",
         "18.7",
         "181.0",
         "3750.0",
         "MALE",
         "7"
        ],
        [
         "1",
         "39.5",
         "17.4",
         "186.0",
         "3800.0",
         "FEMALE",
         "4"
        ],
        [
         "2",
         "40.3",
         "18.0",
         "195.0",
         "3250.0",
         "FEMALE",
         "4"
        ],
        [
         "3",
         "36.7",
         "19.3",
         "193.0",
         "3450.0",
         "FEMALE",
         "7"
        ],
        [
         "4",
         "39.3",
         "20.6",
         "190.0",
         "3650.0",
         "MALE",
         "7"
        ],
        [
         "5",
         "38.9",
         "17.8",
         "181.0",
         "3625.0",
         "FEMALE",
         "4"
        ],
        [
         "6",
         "39.2",
         "19.6",
         "195.0",
         "4675.0",
         "MALE",
         "6"
        ],
        [
         "7",
         "41.1",
         "17.6",
         "182.0",
         "3200.0",
         "FEMALE",
         "4"
        ],
        [
         "8",
         "38.6",
         "21.2",
         "191.0",
         "3800.0",
         "MALE",
         "7"
        ],
        [
         "9",
         "36.6",
         "17.8",
         "185.0",
         "3700.0",
         "FEMALE",
         "2"
        ],
        [
         "10",
         "38.7",
         "19.0",
         "195.0",
         "3450.0",
         "FEMALE",
         "7"
        ],
        [
         "11",
         "42.5",
         "20.7",
         "197.0",
         "4500.0",
         "MALE",
         "6"
        ],
        [
         "12",
         "34.4",
         "18.4",
         "184.0",
         "3325.0",
         "FEMALE",
         "2"
        ],
        [
         "13",
         "46.0",
         "21.5",
         "194.0",
         "4200.0",
         "MALE",
         "6"
        ],
        [
         "14",
         "37.8",
         "18.3",
         "174.0",
         "3400.0",
         "FEMALE",
         "4"
        ],
        [
         "15",
         "37.7",
         "18.7",
         "180.0",
         "3600.0",
         "MALE",
         "7"
        ],
        [
         "16",
         "35.9",
         "19.2",
         "189.0",
         "3800.0",
         "FEMALE",
         "7"
        ],
        [
         "17",
         "38.2",
         "18.1",
         "185.0",
         "3950.0",
         "MALE",
         "7"
        ],
        [
         "18",
         "38.8",
         "17.2",
         "180.0",
         "3800.0",
         "MALE",
         "4"
        ],
        [
         "19",
         "35.3",
         "18.9",
         "187.0",
         "3800.0",
         "FEMALE",
         "7"
        ],
        [
         "20",
         "40.6",
         "18.6",
         "183.0",
         "3550.0",
         "MALE",
         "4"
        ],
        [
         "21",
         "40.5",
         "17.9",
         "187.0",
         "3200.0",
         "FEMALE",
         "4"
        ],
        [
         "22",
         "37.9",
         "18.6",
         "172.0",
         "3150.0",
         "FEMALE",
         "4"
        ],
        [
         "23",
         "40.5",
         "18.9",
         "180.0",
         "3950.0",
         "MALE",
         "7"
        ],
        [
         "24",
         "39.5",
         "16.7",
         "178.0",
         "3250.0",
         "FEMALE",
         "4"
        ],
        [
         "25",
         "37.2",
         "18.1",
         "178.0",
         "3900.0",
         "MALE",
         "7"
        ],
        [
         "26",
         "39.5",
         "17.8",
         "188.0",
         "3300.0",
         "FEMALE",
         "4"
        ],
        [
         "27",
         "40.9",
         "18.9",
         "184.0",
         "3900.0",
         "MALE",
         "7"
        ],
        [
         "28",
         "36.4",
         "17.0",
         "195.0",
         "3325.0",
         "FEMALE",
         "2"
        ],
        [
         "29",
         "39.2",
         "21.1",
         "196.0",
         "4150.0",
         "MALE",
         "6"
        ],
        [
         "30",
         "38.8",
         "20.0",
         "190.0",
         "3950.0",
         "MALE",
         "7"
        ],
        [
         "31",
         "42.2",
         "18.5",
         "180.0",
         "3550.0",
         "FEMALE",
         "4"
        ],
        [
         "32",
         "37.6",
         "19.3",
         "181.0",
         "3300.0",
         "FEMALE",
         "7"
        ],
        [
         "33",
         "39.8",
         "19.1",
         "184.0",
         "4650.0",
         "MALE",
         "6"
        ],
        [
         "34",
         "36.5",
         "18.0",
         "182.0",
         "3150.0",
         "FEMALE",
         "2"
        ],
        [
         "35",
         "40.8",
         "18.4",
         "195.0",
         "3900.0",
         "MALE",
         "6"
        ],
        [
         "36",
         "36.0",
         "18.5",
         "186.0",
         "3100.0",
         "FEMALE",
         "2"
        ],
        [
         "37",
         "44.1",
         "19.7",
         "196.0",
         "4400.0",
         "MALE",
         "6"
        ],
        [
         "38",
         "37.0",
         "16.9",
         "185.0",
         "3000.0",
         "FEMALE",
         "2"
        ],
        [
         "39",
         "39.6",
         "18.8",
         "190.0",
         "4600.0",
         "MALE",
         "6"
        ],
        [
         "40",
         "41.1",
         "19.0",
         "182.0",
         "3425.0",
         "MALE",
         "4"
        ],
        [
         "41",
         "36.0",
         "17.9",
         "190.0",
         "3450.0",
         "FEMALE",
         "2"
        ],
        [
         "42",
         "42.3",
         "21.2",
         "191.0",
         "4150.0",
         "MALE",
         "6"
        ],
        [
         "43",
         "39.6",
         "17.7",
         "186.0",
         "3500.0",
         "FEMALE",
         "4"
        ],
        [
         "44",
         "40.1",
         "18.9",
         "188.0",
         "4300.0",
         "MALE",
         "6"
        ],
        [
         "45",
         "35.0",
         "17.9",
         "190.0",
         "3450.0",
         "FEMALE",
         "2"
        ],
        [
         "46",
         "42.0",
         "19.5",
         "200.0",
         "4050.0",
         "MALE",
         "6"
        ],
        [
         "47",
         "34.5",
         "18.1",
         "187.0",
         "2900.0",
         "FEMALE",
         "2"
        ],
        [
         "48",
         "41.4",
         "18.6",
         "191.0",
         "3700.0",
         "MALE",
         "7"
        ],
        [
         "49",
         "39.0",
         "17.5",
         "186.0",
         "3550.0",
         "FEMALE",
         "4"
        ]
       ],
       "shape": {
        "columns": 6,
        "rows": 332
       }
      },
      "text/html": [
       "<div>\n",
       "<style scoped>\n",
       "    .dataframe tbody tr th:only-of-type {\n",
       "        vertical-align: middle;\n",
       "    }\n",
       "\n",
       "    .dataframe tbody tr th {\n",
       "        vertical-align: top;\n",
       "    }\n",
       "\n",
       "    .dataframe thead th {\n",
       "        text-align: right;\n",
       "    }\n",
       "</style>\n",
       "<table border=\"1\" class=\"dataframe\">\n",
       "  <thead>\n",
       "    <tr style=\"text-align: right;\">\n",
       "      <th></th>\n",
       "      <th>culmen_length_mm</th>\n",
       "      <th>culmen_depth_mm</th>\n",
       "      <th>flipper_length_mm</th>\n",
       "      <th>body_mass_g</th>\n",
       "      <th>sex</th>\n",
       "      <th>cluster</th>\n",
       "    </tr>\n",
       "  </thead>\n",
       "  <tbody>\n",
       "    <tr>\n",
       "      <th>0</th>\n",
       "      <td>39.1</td>\n",
       "      <td>18.7</td>\n",
       "      <td>181.0</td>\n",
       "      <td>3750.0</td>\n",
       "      <td>MALE</td>\n",
       "      <td>7</td>\n",
       "    </tr>\n",
       "    <tr>\n",
       "      <th>1</th>\n",
       "      <td>39.5</td>\n",
       "      <td>17.4</td>\n",
       "      <td>186.0</td>\n",
       "      <td>3800.0</td>\n",
       "      <td>FEMALE</td>\n",
       "      <td>4</td>\n",
       "    </tr>\n",
       "    <tr>\n",
       "      <th>2</th>\n",
       "      <td>40.3</td>\n",
       "      <td>18.0</td>\n",
       "      <td>195.0</td>\n",
       "      <td>3250.0</td>\n",
       "      <td>FEMALE</td>\n",
       "      <td>4</td>\n",
       "    </tr>\n",
       "    <tr>\n",
       "      <th>3</th>\n",
       "      <td>36.7</td>\n",
       "      <td>19.3</td>\n",
       "      <td>193.0</td>\n",
       "      <td>3450.0</td>\n",
       "      <td>FEMALE</td>\n",
       "      <td>7</td>\n",
       "    </tr>\n",
       "    <tr>\n",
       "      <th>4</th>\n",
       "      <td>39.3</td>\n",
       "      <td>20.6</td>\n",
       "      <td>190.0</td>\n",
       "      <td>3650.0</td>\n",
       "      <td>MALE</td>\n",
       "      <td>7</td>\n",
       "    </tr>\n",
       "    <tr>\n",
       "      <th>...</th>\n",
       "      <td>...</td>\n",
       "      <td>...</td>\n",
       "      <td>...</td>\n",
       "      <td>...</td>\n",
       "      <td>...</td>\n",
       "      <td>...</td>\n",
       "    </tr>\n",
       "    <tr>\n",
       "      <th>327</th>\n",
       "      <td>47.2</td>\n",
       "      <td>13.7</td>\n",
       "      <td>214.0</td>\n",
       "      <td>4925.0</td>\n",
       "      <td>FEMALE</td>\n",
       "      <td>1</td>\n",
       "    </tr>\n",
       "    <tr>\n",
       "      <th>328</th>\n",
       "      <td>46.8</td>\n",
       "      <td>14.3</td>\n",
       "      <td>215.0</td>\n",
       "      <td>4850.0</td>\n",
       "      <td>FEMALE</td>\n",
       "      <td>1</td>\n",
       "    </tr>\n",
       "    <tr>\n",
       "      <th>329</th>\n",
       "      <td>50.4</td>\n",
       "      <td>15.7</td>\n",
       "      <td>222.0</td>\n",
       "      <td>5750.0</td>\n",
       "      <td>MALE</td>\n",
       "      <td>3</td>\n",
       "    </tr>\n",
       "    <tr>\n",
       "      <th>330</th>\n",
       "      <td>45.2</td>\n",
       "      <td>14.8</td>\n",
       "      <td>212.0</td>\n",
       "      <td>5200.0</td>\n",
       "      <td>FEMALE</td>\n",
       "      <td>1</td>\n",
       "    </tr>\n",
       "    <tr>\n",
       "      <th>331</th>\n",
       "      <td>49.9</td>\n",
       "      <td>16.1</td>\n",
       "      <td>213.0</td>\n",
       "      <td>5400.0</td>\n",
       "      <td>MALE</td>\n",
       "      <td>3</td>\n",
       "    </tr>\n",
       "  </tbody>\n",
       "</table>\n",
       "<p>332 rows × 6 columns</p>\n",
       "</div>"
      ],
      "text/plain": [
       "     culmen_length_mm  culmen_depth_mm  flipper_length_mm  body_mass_g  \\\n",
       "0                39.1             18.7              181.0       3750.0   \n",
       "1                39.5             17.4              186.0       3800.0   \n",
       "2                40.3             18.0              195.0       3250.0   \n",
       "3                36.7             19.3              193.0       3450.0   \n",
       "4                39.3             20.6              190.0       3650.0   \n",
       "..                ...              ...                ...          ...   \n",
       "327              47.2             13.7              214.0       4925.0   \n",
       "328              46.8             14.3              215.0       4850.0   \n",
       "329              50.4             15.7              222.0       5750.0   \n",
       "330              45.2             14.8              212.0       5200.0   \n",
       "331              49.9             16.1              213.0       5400.0   \n",
       "\n",
       "        sex  cluster  \n",
       "0      MALE        7  \n",
       "1    FEMALE        4  \n",
       "2    FEMALE        4  \n",
       "3    FEMALE        7  \n",
       "4      MALE        7  \n",
       "..      ...      ...  \n",
       "327  FEMALE        1  \n",
       "328  FEMALE        1  \n",
       "329    MALE        3  \n",
       "330  FEMALE        1  \n",
       "331    MALE        3  \n",
       "\n",
       "[332 rows x 6 columns]"
      ]
     },
     "execution_count": 56,
     "metadata": {},
     "output_type": "execute_result"
    }
   ],
   "source": [
    "n_clusters_optimal = 8\n",
    "\n",
    "kmeans = KMeans(n_clusters=n_clusters_optimal, random_state=42)\n",
    "kmeans.fit(X)\n",
    "\n",
    "penguins_df['cluster'] = kmeans.labels_\n",
    "penguins_df"
   ]
  },
  {
   "cell_type": "code",
   "execution_count": 57,
   "id": "4da73a1f",
   "metadata": {},
   "outputs": [
    {
     "data": {
      "image/png": "[encoded data removed]",
      "text/plain": [
       "<Figure size 1000x800 with 1 Axes>"
      ]
     },
     "metadata": {},
     "output_type": "display_data"
    }
   ],
   "source": [
    "plt.figure(figsize=(10, 8))\n",
    "sns.scatterplot(data=penguins_df, x='culmen_length_mm', y='cluster', hue='sex')\n",
    "plt.show()"
   ]
  },
  {
   "cell_type": "markdown",
   "id": "8eb2fd67",
   "metadata": {},
   "source": [
    "Comparando os Scatterplots entre os penguins, podemos visualizar que há uma diferença na frequência de sexo em cada cluster, o que é um forte ponto argumentativo de que a clusterização realizada em n_clusters = 8 evidencia de fato a segregação entre penguins macho e fêmeas."
   ]
  },
  {
   "cell_type": "markdown",
   "id": "ad59bf39",
   "metadata": {},
   "source": [
    "# Solução do Problema (Gabarito)"
   ]
  },
  {
   "cell_type": "code",
   "execution_count": 17,
   "id": "144f0b00",
   "metadata": {},
   "outputs": [
    {
     "name": "stdout",
     "output_type": "stream",
     "text": [
      "<class 'pandas.core.frame.DataFrame'>\n",
      "RangeIndex: 332 entries, 0 to 331\n",
      "Data columns (total 5 columns):\n",
      " #   Column             Non-Null Count  Dtype  \n",
      "---  ------             --------------  -----  \n",
      " 0   culmen_length_mm   332 non-null    float64\n",
      " 1   culmen_depth_mm    332 non-null    float64\n",
      " 2   flipper_length_mm  332 non-null    float64\n",
      " 3   body_mass_g        332 non-null    float64\n",
      " 4   sex                332 non-null    object \n",
      "dtypes: float64(4), object(1)\n",
      "memory usage: 13.1+ KB\n"
     ]
    }
   ],
   "source": [
    "# Import Required Packages\n",
    "import pandas as pd\n",
    "import matplotlib.pyplot as plt\n",
    "from sklearn.cluster import KMeans\n",
    "from sklearn.preprocessing import StandardScaler\n",
    "\n",
    "# Step 1 - Loading and examining the dataset\n",
    "penguins_df = pd.read_csv(\"penguins.csv\")\n",
    "penguins_df.head()\n",
    "penguins_df.info()\n",
    "\n"
   ]
  },
  {
   "cell_type": "code",
   "execution_count": 18,
   "id": "62521c40",
   "metadata": {},
   "outputs": [
    {
     "data": {
      "application/vnd.microsoft.datawrangler.viewer.v0+json": {
       "columns": [
        {
         "name": "index",
         "rawType": "int64",
         "type": "integer"
        },
        {
         "name": "culmen_length_mm",
         "rawType": "float64",
         "type": "float"
        },
        {
         "name": "culmen_depth_mm",
         "rawType": "float64",
         "type": "float"
        },
        {
         "name": "flipper_length_mm",
         "rawType": "float64",
         "type": "float"
        },
        {
         "name": "body_mass_g",
         "rawType": "float64",
         "type": "float"
        },
        {
         "name": "sex_FEMALE",
         "rawType": "int32",
         "type": "integer"
        },
        {
         "name": "sex_MALE",
         "rawType": "int32",
         "type": "integer"
        }
       ],
       "ref": "9579497b-08c2-46f2-a988-3344d802f087",
       "rows": [
        [
         "0",
         "39.1",
         "18.7",
         "181.0",
         "3750.0",
         "0",
         "1"
        ],
        [
         "1",
         "39.5",
         "17.4",
         "186.0",
         "3800.0",
         "1",
         "0"
        ],
        [
         "2",
         "40.3",
         "18.0",
         "195.0",
         "3250.0",
         "1",
         "0"
        ],
        [
         "3",
         "36.7",
         "19.3",
         "193.0",
         "3450.0",
         "1",
         "0"
        ],
        [
         "4",
         "39.3",
         "20.6",
         "190.0",
         "3650.0",
         "0",
         "1"
        ],
        [
         "5",
         "38.9",
         "17.8",
         "181.0",
         "3625.0",
         "1",
         "0"
        ],
        [
         "6",
         "39.2",
         "19.6",
         "195.0",
         "4675.0",
         "0",
         "1"
        ],
        [
         "7",
         "41.1",
         "17.6",
         "182.0",
         "3200.0",
         "1",
         "0"
        ],
        [
         "8",
         "38.6",
         "21.2",
         "191.0",
         "3800.0",
         "0",
         "1"
        ],
        [
         "9",
         "36.6",
         "17.8",
         "185.0",
         "3700.0",
         "1",
         "0"
        ],
        [
         "10",
         "38.7",
         "19.0",
         "195.0",
         "3450.0",
         "1",
         "0"
        ],
        [
         "11",
         "42.5",
         "20.7",
         "197.0",
         "4500.0",
         "0",
         "1"
        ],
        [
         "12",
         "34.4",
         "18.4",
         "184.0",
         "3325.0",
         "1",
         "0"
        ],
        [
         "13",
         "46.0",
         "21.5",
         "194.0",
         "4200.0",
         "0",
         "1"
        ],
        [
         "14",
         "37.8",
         "18.3",
         "174.0",
         "3400.0",
         "1",
         "0"
        ],
        [
         "15",
         "37.7",
         "18.7",
         "180.0",
         "3600.0",
         "0",
         "1"
        ],
        [
         "16",
         "35.9",
         "19.2",
         "189.0",
         "3800.0",
         "1",
         "0"
        ],
        [
         "17",
         "38.2",
         "18.1",
         "185.0",
         "3950.0",
         "0",
         "1"
        ],
        [
         "18",
         "38.8",
         "17.2",
         "180.0",
         "3800.0",
         "0",
         "1"
        ],
        [
         "19",
         "35.3",
         "18.9",
         "187.0",
         "3800.0",
         "1",
         "0"
        ],
        [
         "20",
         "40.6",
         "18.6",
         "183.0",
         "3550.0",
         "0",
         "1"
        ],
        [
         "21",
         "40.5",
         "17.9",
         "187.0",
         "3200.0",
         "1",
         "0"
        ],
        [
         "22",
         "37.9",
         "18.6",
         "172.0",
         "3150.0",
         "1",
         "0"
        ],
        [
         "23",
         "40.5",
         "18.9",
         "180.0",
         "3950.0",
         "0",
         "1"
        ],
        [
         "24",
         "39.5",
         "16.7",
         "178.0",
         "3250.0",
         "1",
         "0"
        ],
        [
         "25",
         "37.2",
         "18.1",
         "178.0",
         "3900.0",
         "0",
         "1"
        ],
        [
         "26",
         "39.5",
         "17.8",
         "188.0",
         "3300.0",
         "1",
         "0"
        ],
        [
         "27",
         "40.9",
         "18.9",
         "184.0",
         "3900.0",
         "0",
         "1"
        ],
        [
         "28",
         "36.4",
         "17.0",
         "195.0",
         "3325.0",
         "1",
         "0"
        ],
        [
         "29",
         "39.2",
         "21.1",
         "196.0",
         "4150.0",
         "0",
         "1"
        ],
        [
         "30",
         "38.8",
         "20.0",
         "190.0",
         "3950.0",
         "0",
         "1"
        ],
        [
         "31",
         "42.2",
         "18.5",
         "180.0",
         "3550.0",
         "1",
         "0"
        ],
        [
         "32",
         "37.6",
         "19.3",
         "181.0",
         "3300.0",
         "1",
         "0"
        ],
        [
         "33",
         "39.8",
         "19.1",
         "184.0",
         "4650.0",
         "0",
         "1"
        ],
        [
         "34",
         "36.5",
         "18.0",
         "182.0",
         "3150.0",
         "1",
         "0"
        ],
        [
         "35",
         "40.8",
         "18.4",
         "195.0",
         "3900.0",
         "0",
         "1"
        ],
        [
         "36",
         "36.0",
         "18.5",
         "186.0",
         "3100.0",
         "1",
         "0"
        ],
        [
         "37",
         "44.1",
         "19.7",
         "196.0",
         "4400.0",
         "0",
         "1"
        ],
        [
         "38",
         "37.0",
         "16.9",
         "185.0",
         "3000.0",
         "1",
         "0"
        ],
        [
         "39",
         "39.6",
         "18.8",
         "190.0",
         "4600.0",
         "0",
         "1"
        ],
        [
         "40",
         "41.1",
         "19.0",
         "182.0",
         "3425.0",
         "0",
         "1"
        ],
        [
         "41",
         "36.0",
         "17.9",
         "190.0",
         "3450.0",
         "1",
         "0"
        ],
        [
         "42",
         "42.3",
         "21.2",
         "191.0",
         "4150.0",
         "0",
         "1"
        ],
        [
         "43",
         "39.6",
         "17.7",
         "186.0",
         "3500.0",
         "1",
         "0"
        ],
        [
         "44",
         "40.1",
         "18.9",
         "188.0",
         "4300.0",
         "0",
         "1"
        ],
        [
         "45",
         "35.0",
         "17.9",
         "190.0",
         "3450.0",
         "1",
         "0"
        ],
        [
         "46",
         "42.0",
         "19.5",
         "200.0",
         "4050.0",
         "0",
         "1"
        ],
        [
         "47",
         "34.5",
         "18.1",
         "187.0",
         "2900.0",
         "1",
         "0"
        ],
        [
         "48",
         "41.4",
         "18.6",
         "191.0",
         "3700.0",
         "0",
         "1"
        ],
        [
         "49",
         "39.0",
         "17.5",
         "186.0",
         "3550.0",
         "1",
         "0"
        ]
       ],
       "shape": {
        "columns": 6,
        "rows": 332
       }
      },
      "text/html": [
       "<div>\n",
       "<style scoped>\n",
       "    .dataframe tbody tr th:only-of-type {\n",
       "        vertical-align: middle;\n",
       "    }\n",
       "\n",
       "    .dataframe tbody tr th {\n",
       "        vertical-align: top;\n",
       "    }\n",
       "\n",
       "    .dataframe thead th {\n",
       "        text-align: right;\n",
       "    }\n",
       "</style>\n",
       "<table border=\"1\" class=\"dataframe\">\n",
       "  <thead>\n",
       "    <tr style=\"text-align: right;\">\n",
       "      <th></th>\n",
       "      <th>culmen_length_mm</th>\n",
       "      <th>culmen_depth_mm</th>\n",
       "      <th>flipper_length_mm</th>\n",
       "      <th>body_mass_g</th>\n",
       "      <th>sex_FEMALE</th>\n",
       "      <th>sex_MALE</th>\n",
       "    </tr>\n",
       "  </thead>\n",
       "  <tbody>\n",
       "    <tr>\n",
       "      <th>0</th>\n",
       "      <td>39.1</td>\n",
       "      <td>18.7</td>\n",
       "      <td>181.0</td>\n",
       "      <td>3750.0</td>\n",
       "      <td>0</td>\n",
       "      <td>1</td>\n",
       "    </tr>\n",
       "    <tr>\n",
       "      <th>1</th>\n",
       "      <td>39.5</td>\n",
       "      <td>17.4</td>\n",
       "      <td>186.0</td>\n",
       "      <td>3800.0</td>\n",
       "      <td>1</td>\n",
       "      <td>0</td>\n",
       "    </tr>\n",
       "    <tr>\n",
       "      <th>2</th>\n",
       "      <td>40.3</td>\n",
       "      <td>18.0</td>\n",
       "      <td>195.0</td>\n",
       "      <td>3250.0</td>\n",
       "      <td>1</td>\n",
       "      <td>0</td>\n",
       "    </tr>\n",
       "    <tr>\n",
       "      <th>3</th>\n",
       "      <td>36.7</td>\n",
       "      <td>19.3</td>\n",
       "      <td>193.0</td>\n",
       "      <td>3450.0</td>\n",
       "      <td>1</td>\n",
       "      <td>0</td>\n",
       "    </tr>\n",
       "    <tr>\n",
       "      <th>4</th>\n",
       "      <td>39.3</td>\n",
       "      <td>20.6</td>\n",
       "      <td>190.0</td>\n",
       "      <td>3650.0</td>\n",
       "      <td>0</td>\n",
       "      <td>1</td>\n",
       "    </tr>\n",
       "    <tr>\n",
       "      <th>...</th>\n",
       "      <td>...</td>\n",
       "      <td>...</td>\n",
       "      <td>...</td>\n",
       "      <td>...</td>\n",
       "      <td>...</td>\n",
       "      <td>...</td>\n",
       "    </tr>\n",
       "    <tr>\n",
       "      <th>327</th>\n",
       "      <td>47.2</td>\n",
       "      <td>13.7</td>\n",
       "      <td>214.0</td>\n",
       "      <td>4925.0</td>\n",
       "      <td>1</td>\n",
       "      <td>0</td>\n",
       "    </tr>\n",
       "    <tr>\n",
       "      <th>328</th>\n",
       "      <td>46.8</td>\n",
       "      <td>14.3</td>\n",
       "      <td>215.0</td>\n",
       "      <td>4850.0</td>\n",
       "      <td>1</td>\n",
       "      <td>0</td>\n",
       "    </tr>\n",
       "    <tr>\n",
       "      <th>329</th>\n",
       "      <td>50.4</td>\n",
       "      <td>15.7</td>\n",
       "      <td>222.0</td>\n",
       "      <td>5750.0</td>\n",
       "      <td>0</td>\n",
       "      <td>1</td>\n",
       "    </tr>\n",
       "    <tr>\n",
       "      <th>330</th>\n",
       "      <td>45.2</td>\n",
       "      <td>14.8</td>\n",
       "      <td>212.0</td>\n",
       "      <td>5200.0</td>\n",
       "      <td>1</td>\n",
       "      <td>0</td>\n",
       "    </tr>\n",
       "    <tr>\n",
       "      <th>331</th>\n",
       "      <td>49.9</td>\n",
       "      <td>16.1</td>\n",
       "      <td>213.0</td>\n",
       "      <td>5400.0</td>\n",
       "      <td>0</td>\n",
       "      <td>1</td>\n",
       "    </tr>\n",
       "  </tbody>\n",
       "</table>\n",
       "<p>332 rows × 6 columns</p>\n",
       "</div>"
      ],
      "text/plain": [
       "     culmen_length_mm  culmen_depth_mm  flipper_length_mm  body_mass_g  \\\n",
       "0                39.1             18.7              181.0       3750.0   \n",
       "1                39.5             17.4              186.0       3800.0   \n",
       "2                40.3             18.0              195.0       3250.0   \n",
       "3                36.7             19.3              193.0       3450.0   \n",
       "4                39.3             20.6              190.0       3650.0   \n",
       "..                ...              ...                ...          ...   \n",
       "327              47.2             13.7              214.0       4925.0   \n",
       "328              46.8             14.3              215.0       4850.0   \n",
       "329              50.4             15.7              222.0       5750.0   \n",
       "330              45.2             14.8              212.0       5200.0   \n",
       "331              49.9             16.1              213.0       5400.0   \n",
       "\n",
       "     sex_FEMALE  sex_MALE  \n",
       "0             0         1  \n",
       "1             1         0  \n",
       "2             1         0  \n",
       "3             1         0  \n",
       "4             0         1  \n",
       "..          ...       ...  \n",
       "327           1         0  \n",
       "328           1         0  \n",
       "329           0         1  \n",
       "330           1         0  \n",
       "331           0         1  \n",
       "\n",
       "[332 rows x 6 columns]"
      ]
     },
     "execution_count": 18,
     "metadata": {},
     "output_type": "execute_result"
    }
   ],
   "source": [
    "# Step 2 - Perform preprocessing steps on the dataset to create dummy variables\n",
    "# Convert categorical variables into dummy/indicator variables\n",
    "penguins_df = pd.get_dummies(penguins_df, dtype='int') # dtype='int' ensure the output will be 0/1 instead of True/False\n",
    "penguins_df\n"
   ]
  },
  {
   "cell_type": "code",
   "execution_count": 19,
   "id": "b270af1d",
   "metadata": {},
   "outputs": [
    {
     "data": {
      "application/vnd.microsoft.datawrangler.viewer.v0+json": {
       "columns": [
        {
         "name": "index",
         "rawType": "int64",
         "type": "integer"
        },
        {
         "name": "culmen_length_mm",
         "rawType": "float64",
         "type": "float"
        },
        {
         "name": "culmen_depth_mm",
         "rawType": "float64",
         "type": "float"
        },
        {
         "name": "flipper_length_mm",
         "rawType": "float64",
         "type": "float"
        },
        {
         "name": "body_mass_g",
         "rawType": "float64",
         "type": "float"
        },
        {
         "name": "sex_FEMALE",
         "rawType": "float64",
         "type": "float"
        },
        {
         "name": "sex_MALE",
         "rawType": "float64",
         "type": "float"
        }
       ],
       "ref": "102a23a9-4a28-477f-81fd-284b2ae79cc5",
       "rows": [
        [
         "0",
         "-0.9039058557262827",
         "0.79035987165517",
         "-1.425341786653953",
         "-0.5669480131865731",
         "-0.9939939396675457",
         "0.9939939396675457"
        ],
        [
         "1",
         "-0.8304337675634416",
         "0.12618673963341823",
         "-1.06857650229847",
         "-0.5048474719863282",
         "1.0060423510574554",
         "-1.0060423510574554"
        ],
        [
         "2",
         "-0.6834895912377592",
         "0.4327281851819196",
         "-0.4263989904586006",
         "-1.187953425189022",
         "1.0060423510574554",
         "-1.0060423510574554"
        ],
        [
         "3",
         "-1.344738384703331",
         "1.0969013172036712",
         "-0.5691051042007937",
         "-0.9395512603880425",
         "1.0060423510574554",
         "-1.0060423510574554"
        ],
        [
         "4",
         "-0.8671698116448627",
         "1.761074449225423",
         "-0.7831642748140836",
         "-0.691149095587063",
         "-0.9939939396675457",
         "0.9939939396675457"
        ],
        [
         "5",
         "-0.940641899807704",
         "0.33054770333241973",
         "-1.425341786653953",
         "-0.7221993661871854",
         "1.0060423510574554",
         "-1.0060423510574554"
        ],
        [
         "6",
         "-0.885537833685572",
         "1.250172039977922",
         "-0.4263989904586006",
         "0.5819119990179574",
         "-0.9939939396675457",
         "0.9939939396675457"
        ],
        [
         "7",
         "-0.5365454149120756",
         "0.2283672214829199",
         "-1.3539887297828563",
         "-1.250053966389267",
         "1.0060423510574554",
         "-1.0060423510574554"
        ],
        [
         "8",
         "-0.9957459659298344",
         "2.0676158947739225",
         "-0.711811217942987",
         "-0.5048474719863282",
         "-0.9939939396675457",
         "0.9939939396675457"
        ],
        [
         "9",
         "-1.3631064067440417",
         "0.33054770333241973",
         "-1.1399295591695666",
         "-0.6290485543868181",
         "1.0060423510574554",
         "-1.0060423510574554"
        ]
       ],
       "shape": {
        "columns": 6,
        "rows": 10
       }
      },
      "text/html": [
       "<div>\n",
       "<style scoped>\n",
       "    .dataframe tbody tr th:only-of-type {\n",
       "        vertical-align: middle;\n",
       "    }\n",
       "\n",
       "    .dataframe tbody tr th {\n",
       "        vertical-align: top;\n",
       "    }\n",
       "\n",
       "    .dataframe thead th {\n",
       "        text-align: right;\n",
       "    }\n",
       "</style>\n",
       "<table border=\"1\" class=\"dataframe\">\n",
       "  <thead>\n",
       "    <tr style=\"text-align: right;\">\n",
       "      <th></th>\n",
       "      <th>culmen_length_mm</th>\n",
       "      <th>culmen_depth_mm</th>\n",
       "      <th>flipper_length_mm</th>\n",
       "      <th>body_mass_g</th>\n",
       "      <th>sex_FEMALE</th>\n",
       "      <th>sex_MALE</th>\n",
       "    </tr>\n",
       "  </thead>\n",
       "  <tbody>\n",
       "    <tr>\n",
       "      <th>0</th>\n",
       "      <td>-0.903906</td>\n",
       "      <td>0.790360</td>\n",
       "      <td>-1.425342</td>\n",
       "      <td>-0.566948</td>\n",
       "      <td>-0.993994</td>\n",
       "      <td>0.993994</td>\n",
       "    </tr>\n",
       "    <tr>\n",
       "      <th>1</th>\n",
       "      <td>-0.830434</td>\n",
       "      <td>0.126187</td>\n",
       "      <td>-1.068577</td>\n",
       "      <td>-0.504847</td>\n",
       "      <td>1.006042</td>\n",
       "      <td>-1.006042</td>\n",
       "    </tr>\n",
       "    <tr>\n",
       "      <th>2</th>\n",
       "      <td>-0.683490</td>\n",
       "      <td>0.432728</td>\n",
       "      <td>-0.426399</td>\n",
       "      <td>-1.187953</td>\n",
       "      <td>1.006042</td>\n",
       "      <td>-1.006042</td>\n",
       "    </tr>\n",
       "    <tr>\n",
       "      <th>3</th>\n",
       "      <td>-1.344738</td>\n",
       "      <td>1.096901</td>\n",
       "      <td>-0.569105</td>\n",
       "      <td>-0.939551</td>\n",
       "      <td>1.006042</td>\n",
       "      <td>-1.006042</td>\n",
       "    </tr>\n",
       "    <tr>\n",
       "      <th>4</th>\n",
       "      <td>-0.867170</td>\n",
       "      <td>1.761074</td>\n",
       "      <td>-0.783164</td>\n",
       "      <td>-0.691149</td>\n",
       "      <td>-0.993994</td>\n",
       "      <td>0.993994</td>\n",
       "    </tr>\n",
       "    <tr>\n",
       "      <th>5</th>\n",
       "      <td>-0.940642</td>\n",
       "      <td>0.330548</td>\n",
       "      <td>-1.425342</td>\n",
       "      <td>-0.722199</td>\n",
       "      <td>1.006042</td>\n",
       "      <td>-1.006042</td>\n",
       "    </tr>\n",
       "    <tr>\n",
       "      <th>6</th>\n",
       "      <td>-0.885538</td>\n",
       "      <td>1.250172</td>\n",
       "      <td>-0.426399</td>\n",
       "      <td>0.581912</td>\n",
       "      <td>-0.993994</td>\n",
       "      <td>0.993994</td>\n",
       "    </tr>\n",
       "    <tr>\n",
       "      <th>7</th>\n",
       "      <td>-0.536545</td>\n",
       "      <td>0.228367</td>\n",
       "      <td>-1.353989</td>\n",
       "      <td>-1.250054</td>\n",
       "      <td>1.006042</td>\n",
       "      <td>-1.006042</td>\n",
       "    </tr>\n",
       "    <tr>\n",
       "      <th>8</th>\n",
       "      <td>-0.995746</td>\n",
       "      <td>2.067616</td>\n",
       "      <td>-0.711811</td>\n",
       "      <td>-0.504847</td>\n",
       "      <td>-0.993994</td>\n",
       "      <td>0.993994</td>\n",
       "    </tr>\n",
       "    <tr>\n",
       "      <th>9</th>\n",
       "      <td>-1.363106</td>\n",
       "      <td>0.330548</td>\n",
       "      <td>-1.139930</td>\n",
       "      <td>-0.629049</td>\n",
       "      <td>1.006042</td>\n",
       "      <td>-1.006042</td>\n",
       "    </tr>\n",
       "  </tbody>\n",
       "</table>\n",
       "</div>"
      ],
      "text/plain": [
       "   culmen_length_mm  culmen_depth_mm  flipper_length_mm  body_mass_g  \\\n",
       "0         -0.903906         0.790360          -1.425342    -0.566948   \n",
       "1         -0.830434         0.126187          -1.068577    -0.504847   \n",
       "2         -0.683490         0.432728          -0.426399    -1.187953   \n",
       "3         -1.344738         1.096901          -0.569105    -0.939551   \n",
       "4         -0.867170         1.761074          -0.783164    -0.691149   \n",
       "5         -0.940642         0.330548          -1.425342    -0.722199   \n",
       "6         -0.885538         1.250172          -0.426399     0.581912   \n",
       "7         -0.536545         0.228367          -1.353989    -1.250054   \n",
       "8         -0.995746         2.067616          -0.711811    -0.504847   \n",
       "9         -1.363106         0.330548          -1.139930    -0.629049   \n",
       "\n",
       "   sex_FEMALE  sex_MALE  \n",
       "0   -0.993994  0.993994  \n",
       "1    1.006042 -1.006042  \n",
       "2    1.006042 -1.006042  \n",
       "3    1.006042 -1.006042  \n",
       "4   -0.993994  0.993994  \n",
       "5    1.006042 -1.006042  \n",
       "6   -0.993994  0.993994  \n",
       "7    1.006042 -1.006042  \n",
       "8   -0.993994  0.993994  \n",
       "9    1.006042 -1.006042  "
      ]
     },
     "execution_count": 19,
     "metadata": {},
     "output_type": "execute_result"
    }
   ],
   "source": [
    "\n",
    "# Step 3 - Perform preprocessing steps on the dataset - standarizing/scaling\n",
    "# Scaling variables (also called standardizing) is recommended before performing a clustering algorithm since this can increase the performance greatly (see https://scikit-learn.org/stable/auto_examples/preprocessing/plot_scaling_importance.html)\n",
    "scaler = StandardScaler()\n",
    "X = scaler.fit_transform(penguins_df)\n",
    "penguins_preprocessed = pd.DataFrame(data=X,columns=penguins_df.columns)\n",
    "penguins_preprocessed.head(10)\n",
    "\n"
   ]
  },
  {
   "cell_type": "code",
   "execution_count": 20,
   "id": "6d75bc8a",
   "metadata": {},
   "outputs": [
    {
     "name": "stderr",
     "output_type": "stream",
     "text": [
      "c:\\Users\\User\\anaconda3\\Lib\\site-packages\\sklearn\\cluster\\_kmeans.py:1419: UserWarning: KMeans is known to have a memory leak on Windows with MKL, when there are less chunks than available threads. You can avoid it by setting the environment variable OMP_NUM_THREADS=2.\n",
      "  warnings.warn(\n",
      "c:\\Users\\User\\anaconda3\\Lib\\site-packages\\sklearn\\cluster\\_kmeans.py:1419: UserWarning: KMeans is known to have a memory leak on Windows with MKL, when there are less chunks than available threads. You can avoid it by setting the environment variable OMP_NUM_THREADS=2.\n",
      "  warnings.warn(\n",
      "c:\\Users\\User\\anaconda3\\Lib\\site-packages\\sklearn\\cluster\\_kmeans.py:1419: UserWarning: KMeans is known to have a memory leak on Windows with MKL, when there are less chunks than available threads. You can avoid it by setting the environment variable OMP_NUM_THREADS=2.\n",
      "  warnings.warn(\n",
      "c:\\Users\\User\\anaconda3\\Lib\\site-packages\\sklearn\\cluster\\_kmeans.py:1419: UserWarning: KMeans is known to have a memory leak on Windows with MKL, when there are less chunks than available threads. You can avoid it by setting the environment variable OMP_NUM_THREADS=2.\n",
      "  warnings.warn(\n",
      "c:\\Users\\User\\anaconda3\\Lib\\site-packages\\sklearn\\cluster\\_kmeans.py:1419: UserWarning: KMeans is known to have a memory leak on Windows with MKL, when there are less chunks than available threads. You can avoid it by setting the environment variable OMP_NUM_THREADS=2.\n",
      "  warnings.warn(\n",
      "c:\\Users\\User\\anaconda3\\Lib\\site-packages\\sklearn\\cluster\\_kmeans.py:1419: UserWarning: KMeans is known to have a memory leak on Windows with MKL, when there are less chunks than available threads. You can avoid it by setting the environment variable OMP_NUM_THREADS=2.\n",
      "  warnings.warn(\n",
      "c:\\Users\\User\\anaconda3\\Lib\\site-packages\\sklearn\\cluster\\_kmeans.py:1419: UserWarning: KMeans is known to have a memory leak on Windows with MKL, when there are less chunks than available threads. You can avoid it by setting the environment variable OMP_NUM_THREADS=2.\n",
      "  warnings.warn(\n",
      "c:\\Users\\User\\anaconda3\\Lib\\site-packages\\sklearn\\cluster\\_kmeans.py:1419: UserWarning: KMeans is known to have a memory leak on Windows with MKL, when there are less chunks than available threads. You can avoid it by setting the environment variable OMP_NUM_THREADS=2.\n",
      "  warnings.warn(\n",
      "c:\\Users\\User\\anaconda3\\Lib\\site-packages\\sklearn\\cluster\\_kmeans.py:1419: UserWarning: KMeans is known to have a memory leak on Windows with MKL, when there are less chunks than available threads. You can avoid it by setting the environment variable OMP_NUM_THREADS=2.\n",
      "  warnings.warn(\n"
     ]
    },
    {
     "data": {
      "image/png": "[encoded data removed]",
      "text/plain": [
       "<Figure size 640x480 with 1 Axes>"
      ]
     },
     "metadata": {},
     "output_type": "display_data"
    }
   ],
   "source": [
    "# Step 4 - Detect the optimal number of clusters for k-means clustering\n",
    "inertia = []\n",
    "for k in range(1, 10):\n",
    "    kmeans = KMeans(n_clusters=k, random_state=42).fit(penguins_preprocessed)\n",
    "    inertia.append(kmeans.inertia_)    \n",
    "plt.plot(range(1, 10), inertia, marker='o')\n",
    "plt.xlabel('Number of clusters')\n",
    "plt.ylabel('Inertia')\n",
    "plt.title('Elbow Method')\n",
    "plt.show()\n",
    "n_clusters=4\n",
    "\n"
   ]
  },
  {
   "cell_type": "code",
   "execution_count": 21,
   "id": "8d85d6ec",
   "metadata": {},
   "outputs": [
    {
     "name": "stderr",
     "output_type": "stream",
     "text": [
      "c:\\Users\\User\\anaconda3\\Lib\\site-packages\\sklearn\\cluster\\_kmeans.py:1419: UserWarning: KMeans is known to have a memory leak on Windows with MKL, when there are less chunks than available threads. You can avoid it by setting the environment variable OMP_NUM_THREADS=2.\n",
      "  warnings.warn(\n"
     ]
    },
    {
     "data": {
      "image/png": "[encoded data removed]",
      "text/plain": [
       "<Figure size 640x480 with 1 Axes>"
      ]
     },
     "metadata": {},
     "output_type": "display_data"
    }
   ],
   "source": [
    "# Step 5 - Run the k-means clustering algorithm\n",
    "# with the optimal number of clusters \n",
    "\n",
    "kmeans = KMeans(n_clusters=n_clusters, random_state=42).fit(penguins_preprocessed)\n",
    "penguins_df['label'] = kmeans.labels_\n",
    "\n",
    "# and visualize the clusters (here for the 'culmen_length_mm' column)\n",
    "plt.scatter(penguins_df['label'], penguins_df['culmen_length_mm'], c=kmeans.labels_, cmap='viridis')\n",
    "plt.xlabel('Cluster')\n",
    "plt.ylabel('culmen_length_mm')\n",
    "plt.xticks(range(int(penguins_df['label'].min()), int(penguins_df['label'].max()) + 1))\n",
    "plt.title(f'K-means Clustering (K={n_clusters})')\n",
    "plt.show()\n",
    "\n"
   ]
  },
  {
   "cell_type": "code",
   "execution_count": 22,
   "id": "718044eb",
   "metadata": {},
   "outputs": [
    {
     "data": {
      "application/vnd.microsoft.datawrangler.viewer.v0+json": {
       "columns": [
        {
         "name": "label",
         "rawType": "int32",
         "type": "integer"
        },
        {
         "name": "culmen_length_mm",
         "rawType": "float64",
         "type": "float"
        },
        {
         "name": "culmen_depth_mm",
         "rawType": "float64",
         "type": "float"
        },
        {
         "name": "flipper_length_mm",
         "rawType": "float64",
         "type": "float"
        }
       ],
       "ref": "3ef55a7e-e1ae-4d79-835e-39156379d70a",
       "rows": [
        [
         "0",
         "43.87830188679246",
         "19.11132075471698",
         "194.76415094339623"
        ],
        [
         "1",
         "45.563793103448276",
         "14.237931034482758",
         "212.70689655172413"
        ],
        [
         "2",
         "40.217757009345796",
         "17.61121495327103",
         "189.0467289719626"
        ],
        [
         "3",
         "49.47377049180328",
         "15.718032786885246",
         "221.54098360655738"
        ]
       ],
       "shape": {
        "columns": 3,
        "rows": 4
       }
      },
      "text/html": [
       "<div>\n",
       "<style scoped>\n",
       "    .dataframe tbody tr th:only-of-type {\n",
       "        vertical-align: middle;\n",
       "    }\n",
       "\n",
       "    .dataframe tbody tr th {\n",
       "        vertical-align: top;\n",
       "    }\n",
       "\n",
       "    .dataframe thead th {\n",
       "        text-align: right;\n",
       "    }\n",
       "</style>\n",
       "<table border=\"1\" class=\"dataframe\">\n",
       "  <thead>\n",
       "    <tr style=\"text-align: right;\">\n",
       "      <th></th>\n",
       "      <th>culmen_length_mm</th>\n",
       "      <th>culmen_depth_mm</th>\n",
       "      <th>flipper_length_mm</th>\n",
       "    </tr>\n",
       "    <tr>\n",
       "      <th>label</th>\n",
       "      <th></th>\n",
       "      <th></th>\n",
       "      <th></th>\n",
       "    </tr>\n",
       "  </thead>\n",
       "  <tbody>\n",
       "    <tr>\n",
       "      <th>0</th>\n",
       "      <td>43.878302</td>\n",
       "      <td>19.111321</td>\n",
       "      <td>194.764151</td>\n",
       "    </tr>\n",
       "    <tr>\n",
       "      <th>1</th>\n",
       "      <td>45.563793</td>\n",
       "      <td>14.237931</td>\n",
       "      <td>212.706897</td>\n",
       "    </tr>\n",
       "    <tr>\n",
       "      <th>2</th>\n",
       "      <td>40.217757</td>\n",
       "      <td>17.611215</td>\n",
       "      <td>189.046729</td>\n",
       "    </tr>\n",
       "    <tr>\n",
       "      <th>3</th>\n",
       "      <td>49.473770</td>\n",
       "      <td>15.718033</td>\n",
       "      <td>221.540984</td>\n",
       "    </tr>\n",
       "  </tbody>\n",
       "</table>\n",
       "</div>"
      ],
      "text/plain": [
       "       culmen_length_mm  culmen_depth_mm  flipper_length_mm\n",
       "label                                                      \n",
       "0             43.878302        19.111321         194.764151\n",
       "1             45.563793        14.237931         212.706897\n",
       "2             40.217757        17.611215         189.046729\n",
       "3             49.473770        15.718033         221.540984"
      ]
     },
     "execution_count": 22,
     "metadata": {},
     "output_type": "execute_result"
    }
   ],
   "source": [
    "# Step - create final `stat_penguins` DataFrame\n",
    "numeric_columns = ['culmen_length_mm', 'culmen_depth_mm', 'flipper_length_mm','label']\n",
    "stat_penguins = penguins_df[numeric_columns].groupby('label').mean()\n",
    "stat_penguins"
   ]
  }
 ],
 "metadata": {
  "colab": {
   "name": "Welcome to DataCamp Workspaces.ipynb",
   "provenance": []
  },
  "editor": "DataLab",
  "kernelspec": {
   "display_name": "base",
   "language": "python",
   "name": "python3"
  },
  "language_info": {
   "codemirror_mode": {
    "name": "ipython",
    "version": 3
   },
   "file_extension": ".py",
   "mimetype": "text/x-python",
   "name": "python",
   "nbconvert_exporter": "python",
   "pygments_lexer": "ipython3",
   "version": "3.12.8"
  }
 },
 "nbformat": 4,
 "nbformat_minor": 5
}
